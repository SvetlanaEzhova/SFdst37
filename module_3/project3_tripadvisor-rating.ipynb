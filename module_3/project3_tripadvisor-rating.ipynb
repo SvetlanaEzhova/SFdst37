{
 "cells": [
  {
   "cell_type": "markdown",
   "metadata": {},
   "source": [
    "![](https://www.pata.org/wp-content/uploads/2014/09/TripAdvisor_Logo-300x119.png)\n",
    "# Predict TripAdvisor Rating\n",
    "## В этом соревновании нам предстоит предсказать рейтинг ресторана в TripAdvisor\n",
    "**По ходу задачи:**\n",
    "* Прокачаем работу с pandas\n",
    "* Научимся работать с Kaggle Notebooks\n",
    "* Поймем как делать предобработку различных данных\n",
    "* Научимся работать с пропущенными данными (Nan)\n",
    "* Познакомимся с различными видами кодирования признаков\n",
    "* Немного попробуем [Feature Engineering](https://ru.wikipedia.org/wiki/Конструирование_признаков) (генерировать новые признаки)\n",
    "* И совсем немного затронем ML\n",
    "* И многое другое...   \n",
    "\n",
    "\n",
    "\n",
    "### И самое важное, все это вы сможете сделать самостоятельно!\n",
    "\n",
    "*Этот Ноутбук являетсся Примером/Шаблоном к этому соревнованию (Baseline) и не служит готовым решением!*   \n",
    "Вы можете использовать его как основу для построения своего решения.\n",
    "\n",
    "> что такое baseline решение, зачем оно нужно и почему предоставлять baseline к соревнованию стало важным стандартом на kaggle и других площадках.   \n",
    "**baseline** создается больше как шаблон, где можно посмотреть как происходит обращение с входящими данными и что нужно получить на выходе. При этом МЛ начинка может быть достаточно простой, просто для примера. Это помогает быстрее приступить к самому МЛ, а не тратить ценное время на чисто инженерные задачи. \n",
    "Также baseline являеться хорошей опорной точкой по метрике. Если твое решение хуже baseline - ты явно делаешь что-то не то и стоит попробовать другой путь) \n",
    "\n",
    "В контексте нашего соревнования baseline идет с небольшими примерами того, что можно делать с данными, и с инструкцией, что делать дальше, чтобы улучшить результат.  Вообще готовым решением это сложно назвать, так как используются всего 2 самых простых признака (а остальные исключаются)."
   ]
  },
  {
   "cell_type": "markdown",
   "metadata": {},
   "source": [
    "# import"
   ]
  },
  {
   "cell_type": "code",
   "execution_count": 1,
   "metadata": {
    "_cell_guid": "b1076dfc-b9ad-4769-8c92-a6c4dae69d19",
    "_uuid": "8f2839f25d086af736a60e9eeb907d3b93b6e0e5",
    "execution": {
     "iopub.execute_input": "2021-07-14T04:32:15.739954Z",
     "iopub.status.busy": "2021-07-14T04:32:15.739436Z",
     "iopub.status.idle": "2021-07-14T04:32:18.336848Z",
     "shell.execute_reply": "2021-07-14T04:32:18.336153Z",
     "shell.execute_reply.started": "2021-07-14T04:32:15.739889Z"
    }
   },
   "outputs": [
    {
     "name": "stdout",
     "output_type": "stream",
     "text": [
      "/kaggle/input/sf-dst-restaurant-rating/sample_submission.csv\n",
      "/kaggle/input/sf-dst-restaurant-rating/main_task.csv\n",
      "/kaggle/input/sf-dst-restaurant-rating/kaggle_task.csv\n"
     ]
    }
   ],
   "source": [
    "# This Python 3 environment comes with many helpful analytics libraries installed\n",
    "# It is defined by the kaggle/python docker image: https://github.com/kaggle/docker-python\n",
    "# For example, here's several helpful packages to load in \n",
    "\n",
    "import numpy as np # linear algebra\n",
    "import pandas as pd # data processing, CSV file I/O (e.g. pd.read_csv)\n",
    "\n",
    "import matplotlib.pyplot as plt\n",
    "import seaborn as sns \n",
    "%matplotlib inline\n",
    "\n",
    "# Загружаем специальный удобный инструмент для разделения датасета:\n",
    "from sklearn.model_selection import train_test_split\n",
    "\n",
    "# Input data files are available in the \"../input/\" directory.\n",
    "# For example, running this (by clicking run or pressing Shift+Enter) will list all files under the input directory\n",
    "\n",
    "import os\n",
    "for dirname, _, filenames in os.walk('/kaggle/input'):\n",
    "    for filename in filenames:\n",
    "        print(os.path.join(dirname, filename))\n",
    "\n",
    "# Any results you write to the current directory are saved as output."
   ]
  },
  {
   "cell_type": "code",
   "execution_count": 2,
   "metadata": {
    "execution": {
     "iopub.execute_input": "2021-07-14T04:32:18.338494Z",
     "iopub.status.busy": "2021-07-14T04:32:18.338286Z",
     "iopub.status.idle": "2021-07-14T04:32:18.341702Z",
     "shell.execute_reply": "2021-07-14T04:32:18.340937Z",
     "shell.execute_reply.started": "2021-07-14T04:32:18.338457Z"
    }
   },
   "outputs": [],
   "source": [
    "# всегда фиксируйте RANDOM_SEED, чтобы ваши эксперименты были воспроизводимы!\n",
    "RANDOM_SEED = 42"
   ]
  },
  {
   "cell_type": "code",
   "execution_count": 3,
   "metadata": {
    "execution": {
     "iopub.execute_input": "2021-07-14T04:32:18.342981Z",
     "iopub.status.busy": "2021-07-14T04:32:18.342763Z",
     "iopub.status.idle": "2021-07-14T04:32:21.240677Z",
     "shell.execute_reply": "2021-07-14T04:32:21.239553Z",
     "shell.execute_reply.started": "2021-07-14T04:32:18.342943Z"
    }
   },
   "outputs": [],
   "source": [
    "# зафиксируем версию пакетов, чтобы эксперименты были воспроизводимы:\n",
    "!pip freeze > requirements.txt"
   ]
  },
  {
   "cell_type": "markdown",
   "metadata": {},
   "source": [
    "# Functions"
   ]
  },
  {
   "cell_type": "code",
   "execution_count": 4,
   "metadata": {
    "execution": {
     "iopub.execute_input": "2021-07-14T04:32:21.242555Z",
     "iopub.status.busy": "2021-07-14T04:32:21.242291Z",
     "iopub.status.idle": "2021-07-14T04:32:21.276560Z",
     "shell.execute_reply": "2021-07-14T04:32:21.275773Z",
     "shell.execute_reply.started": "2021-07-14T04:32:21.242491Z"
    }
   },
   "outputs": [],
   "source": [
    "def data_description(df: pd.DataFrame) -> None:\n",
    "    ''' Выводит дополнительную информацию о пустых полях в датасете. '''\n",
    "\n",
    "    print(\"Размерность набора (строки, столбцы):\", df.shape, \"\\n\")\n",
    "    print(\"Кол-во полных дубликатов:\", df[df.duplicated()].shape[0])\n",
    "    print(\n",
    "        \"Кол-во пустых строк:     \", df[df.isna().all(axis=\"columns\")].shape[0]\n",
    "    )\n",
    "    print(\n",
    "        \"Кол-во строк, имеющих хотя бы одно пустое значение:\",\n",
    "        df[df.isna().any(axis=\"columns\")].shape[0],\n",
    "    )\n",
    "    print(\n",
    "        \"Кол-во строк, не имеющих ни одного пустого значения:\",\n",
    "        df[df.notna().all(axis=\"columns\")].shape[0],\n",
    "        \"\\n\",\n",
    "    )\n",
    "    print(\"Информация о пустых значениях по столбцам (в процентах):\")\n",
    "    display(df.isna().mean() * 100)\n",
    "    #display(df.isna().agg(['sum', 'mean']).T) \n",
    "    #print(\"   желтый - пропущенные данные, синий - не пустые\")\n",
    "    # Посмотрим как распеделены пропуски по датасету:\n",
    "    #plt.figure(figsize=(10, 7)) # размер тепловой карты\n",
    "    #sns.heatmap(df.isnull(), cmap=\"YlGnBu_r\")\n",
    "    return None\n",
    "\n",
    "\n",
    "def field_values(df: pd.DataFrame, column: object, uval: int=15, table: bool=True) -> None :\n",
    "    ''' Выводит информацию о типе данных в колонке, кол-во уникальных значений и\n",
    "    кол-во NaN. А также, если кол-во уникальных значений меньше uval, выводит \n",
    "    список всех возможных значений в колонке, отcортированных по значениям, а \n",
    "    не по кол-ву, иначе сортировка по кол-ву.\n",
    "    '''\n",
    "    print(column,': ', type(df[column][0]))\n",
    "    uniqval = df[column].nunique()\n",
    "    print('Уникальных значений ', uniqval, ' из', df.shape[0] )\n",
    "    print('NaN ', df[column].isna().sum(), \"(\",\n",
    "            round(df[column].isna().mean() * 100, 2),\n",
    "            \"% )\")\n",
    "    if table:\n",
    "        if uniqval > 10 :\n",
    "            display(df[column].value_counts().head(6))\n",
    "        else:\n",
    "            display(df.groupby([column])[column].count())\n",
    "\n",
    "    return None\n",
    "\n",
    "\n",
    "def IQR_hist(df: pd.DataFrame, column: object, outliers: bool=False) -> None :\n",
    "    ''' Строит гистограмму и выводит все числовые значения для оценки наличия выбросов '''\n",
    "\n",
    "    IQR = df[column].quantile(0.75) - df[column].quantile(0.25)\n",
    "    perc25 = df[column].quantile(0.25)\n",
    "    perc75 = df[column].quantile(0.75)\n",
    "    iqr_low = perc25 - 1.5 * IQR\n",
    "    iqr_up = perc75 + 1.5 * IQR\n",
    "    min_value = df[column].min()\n",
    "    max_value = df[column].max()\n",
    "    print(\n",
    "        \"Среднее: {},\".format(round(df[column].mean(), 2)),\n",
    "        \"Медиана: {},\".format(round(df[column].median(), 2)),\n",
    "        \"Мода: {},\".format(list(df[column].mode())),\n",
    "    )\n",
    "    print(\n",
    "        \"25-й перцентиль: {},\".format(perc25),\n",
    "        \"75-й перцентиль: {},\".format(perc75),\n",
    "        \"IQR: {}.\".format(IQR),\n",
    "    )\n",
    "    print(\"Минимум/максимум: [{x}, {y}].\".format(x=min_value, y=max_value))\n",
    "    print(\"Границы выбросов: [{f}, {l}].\".format(f=iqr_low, l=iqr_up))\n",
    "\n",
    "    if outliers:\n",
    "        ser = df[column].loc[df[column].between(min_value, max_value)].copy()\n",
    "        nbins = ser.value_counts().count()\n",
    "        ser.loc[(ser < iqr_low) | (ser > iqr_up)].hist(\n",
    "            bins=nbins,\n",
    "            range=(min_value, max_value),\n",
    "            color=\"red\",\n",
    "            label=\"outliers\",\n",
    "        )\n",
    "        ser.loc[ser.between(iqr_low, iqr_up)].hist(\n",
    "            bins=nbins, range=(min_value, max_value), label=\"IQR\"\n",
    "        )\n",
    "    else:\n",
    "        min_interval = max(min_value, iqr_low)\n",
    "        max_interval = min(max_value, iqr_up)\n",
    "        ser = (\n",
    "            df[column]\n",
    "            .loc[df[column].between(min_interval, max_interval)]\n",
    "            .copy()\n",
    "        )\n",
    "        nbins = ser.value_counts().count()\n",
    "        ser.hist(bins=nbins, range=(min_interval, max_interval), label=\"IQR\")\n",
    "    plt.legend()\n",
    "\n",
    "    return None\n",
    "\n",
    "\n",
    "def get_boxplot(df: pd.DataFrame, column: object, target: str=\"Rating\") -> None:\n",
    "    ''' Отображет коробку с усами '''\n",
    "    if df[column].value_counts().count() < 3:\n",
    "        fig, ax = plt.subplots(figsize=(10, 3))\n",
    "    else:\n",
    "        fig, ax = plt.subplots(figsize=(12, 4))\n",
    "    sns.boxplot(x=column, y=target, data=df, ax=ax)\n",
    "    plt.xticks(rotation=45)\n",
    "    ax.set_title(\"Boxplot for \" + column)\n",
    "    plt.show()\n",
    "\n",
    "    return None\n",
    "\n",
    "\n",
    "def del_object_type(df_input: pd.DataFrame,) -> pd.DataFrame:\n",
    "    ''' Создаем копию df_input и убираем из копии признаки с dtypes <object> '''    \n",
    "    df_output = df_input.copy()  \n",
    "\n",
    "    object_columns = [s for s in df_output.columns if df_output[s].dtypes == 'object']\n",
    "    df_output.drop(object_columns, axis = 1, inplace=True)\n",
    "    \n",
    "    return df_output"
   ]
  },
  {
   "cell_type": "markdown",
   "metadata": {},
   "source": [
    "# DATA"
   ]
  },
  {
   "cell_type": "code",
   "execution_count": 5,
   "metadata": {
    "_cell_guid": "79c7e3d0-c299-4dcb-8224-4455121ee9b0",
    "_uuid": "d629ff2d2480ee46fbb7e2d37f6b5fab8052498a",
    "execution": {
     "iopub.execute_input": "2021-07-14T04:32:21.279431Z",
     "iopub.status.busy": "2021-07-14T04:32:21.279199Z",
     "iopub.status.idle": "2021-07-14T04:32:21.639560Z",
     "shell.execute_reply": "2021-07-14T04:32:21.638634Z",
     "shell.execute_reply.started": "2021-07-14T04:32:21.279386Z"
    }
   },
   "outputs": [],
   "source": [
    "DATA_DIR = '/kaggle/input/sf-dst-restaurant-rating/'\n",
    "df_train = pd.read_csv(DATA_DIR+'/main_task.csv')\n",
    "df_test = pd.read_csv(DATA_DIR+'kaggle_task.csv')\n",
    "sample_submission = pd.read_csv(DATA_DIR+'/sample_submission.csv')"
   ]
  },
  {
   "cell_type": "code",
   "execution_count": 6,
   "metadata": {
    "execution": {
     "iopub.execute_input": "2021-07-14T04:32:21.642972Z",
     "iopub.status.busy": "2021-07-14T04:32:21.642582Z",
     "iopub.status.idle": "2021-07-14T04:32:21.687382Z",
     "shell.execute_reply": "2021-07-14T04:32:21.686503Z",
     "shell.execute_reply.started": "2021-07-14T04:32:21.642820Z"
    }
   },
   "outputs": [
    {
     "name": "stdout",
     "output_type": "stream",
     "text": [
      "<class 'pandas.core.frame.DataFrame'>\n",
      "RangeIndex: 40000 entries, 0 to 39999\n",
      "Data columns (total 10 columns):\n",
      "Restaurant_id        40000 non-null object\n",
      "City                 40000 non-null object\n",
      "Cuisine Style        30717 non-null object\n",
      "Ranking              40000 non-null float64\n",
      "Rating               40000 non-null float64\n",
      "Price Range          26114 non-null object\n",
      "Number of Reviews    37457 non-null float64\n",
      "Reviews              40000 non-null object\n",
      "URL_TA               40000 non-null object\n",
      "ID_TA                40000 non-null object\n",
      "dtypes: float64(3), object(7)\n",
      "memory usage: 3.1+ MB\n"
     ]
    }
   ],
   "source": [
    "df_train.info()"
   ]
  },
  {
   "cell_type": "code",
   "execution_count": 7,
   "metadata": {
    "execution": {
     "iopub.execute_input": "2021-07-14T04:32:21.689405Z",
     "iopub.status.busy": "2021-07-14T04:32:21.689054Z",
     "iopub.status.idle": "2021-07-14T04:32:21.716238Z",
     "shell.execute_reply": "2021-07-14T04:32:21.715432Z",
     "shell.execute_reply.started": "2021-07-14T04:32:21.689340Z"
    }
   },
   "outputs": [
    {
     "data": {
      "text/html": [
       "<div>\n",
       "<style scoped>\n",
       "    .dataframe tbody tr th:only-of-type {\n",
       "        vertical-align: middle;\n",
       "    }\n",
       "\n",
       "    .dataframe tbody tr th {\n",
       "        vertical-align: top;\n",
       "    }\n",
       "\n",
       "    .dataframe thead th {\n",
       "        text-align: right;\n",
       "    }\n",
       "</style>\n",
       "<table border=\"1\" class=\"dataframe\">\n",
       "  <thead>\n",
       "    <tr style=\"text-align: right;\">\n",
       "      <th></th>\n",
       "      <th>Restaurant_id</th>\n",
       "      <th>City</th>\n",
       "      <th>Cuisine Style</th>\n",
       "      <th>Ranking</th>\n",
       "      <th>Rating</th>\n",
       "      <th>Price Range</th>\n",
       "      <th>Number of Reviews</th>\n",
       "      <th>Reviews</th>\n",
       "      <th>URL_TA</th>\n",
       "      <th>ID_TA</th>\n",
       "    </tr>\n",
       "  </thead>\n",
       "  <tbody>\n",
       "    <tr>\n",
       "      <th>0</th>\n",
       "      <td>id_5569</td>\n",
       "      <td>Paris</td>\n",
       "      <td>['European', 'French', 'International']</td>\n",
       "      <td>5570.0</td>\n",
       "      <td>3.5</td>\n",
       "      <td>$$ - $$$</td>\n",
       "      <td>194.0</td>\n",
       "      <td>[['Good food at your doorstep', 'A good hotel ...</td>\n",
       "      <td>/Restaurant_Review-g187147-d1912643-Reviews-R_...</td>\n",
       "      <td>d1912643</td>\n",
       "    </tr>\n",
       "    <tr>\n",
       "      <th>1</th>\n",
       "      <td>id_1535</td>\n",
       "      <td>Stockholm</td>\n",
       "      <td>NaN</td>\n",
       "      <td>1537.0</td>\n",
       "      <td>4.0</td>\n",
       "      <td>NaN</td>\n",
       "      <td>10.0</td>\n",
       "      <td>[['Unique cuisine', 'Delicious Nepalese food']...</td>\n",
       "      <td>/Restaurant_Review-g189852-d7992032-Reviews-Bu...</td>\n",
       "      <td>d7992032</td>\n",
       "    </tr>\n",
       "    <tr>\n",
       "      <th>2</th>\n",
       "      <td>id_352</td>\n",
       "      <td>London</td>\n",
       "      <td>['Japanese', 'Sushi', 'Asian', 'Grill', 'Veget...</td>\n",
       "      <td>353.0</td>\n",
       "      <td>4.5</td>\n",
       "      <td>$$$$</td>\n",
       "      <td>688.0</td>\n",
       "      <td>[['Catch up with friends', 'Not exceptional'],...</td>\n",
       "      <td>/Restaurant_Review-g186338-d8632781-Reviews-RO...</td>\n",
       "      <td>d8632781</td>\n",
       "    </tr>\n",
       "    <tr>\n",
       "      <th>3</th>\n",
       "      <td>id_3456</td>\n",
       "      <td>Berlin</td>\n",
       "      <td>NaN</td>\n",
       "      <td>3458.0</td>\n",
       "      <td>5.0</td>\n",
       "      <td>NaN</td>\n",
       "      <td>3.0</td>\n",
       "      <td>[[], []]</td>\n",
       "      <td>/Restaurant_Review-g187323-d1358776-Reviews-Es...</td>\n",
       "      <td>d1358776</td>\n",
       "    </tr>\n",
       "    <tr>\n",
       "      <th>4</th>\n",
       "      <td>id_615</td>\n",
       "      <td>Munich</td>\n",
       "      <td>['German', 'Central European', 'Vegetarian Fri...</td>\n",
       "      <td>621.0</td>\n",
       "      <td>4.0</td>\n",
       "      <td>$$ - $$$</td>\n",
       "      <td>84.0</td>\n",
       "      <td>[['Best place to try a Bavarian food', 'Nice b...</td>\n",
       "      <td>/Restaurant_Review-g187309-d6864963-Reviews-Au...</td>\n",
       "      <td>d6864963</td>\n",
       "    </tr>\n",
       "  </tbody>\n",
       "</table>\n",
       "</div>"
      ],
      "text/plain": [
       "  Restaurant_id       City                                      Cuisine Style  \\\n",
       "0       id_5569      Paris            ['European', 'French', 'International']   \n",
       "1       id_1535  Stockholm                                                NaN   \n",
       "2        id_352     London  ['Japanese', 'Sushi', 'Asian', 'Grill', 'Veget...   \n",
       "3       id_3456     Berlin                                                NaN   \n",
       "4        id_615     Munich  ['German', 'Central European', 'Vegetarian Fri...   \n",
       "\n",
       "   Ranking  Rating Price Range  Number of Reviews  \\\n",
       "0   5570.0     3.5    $$ - $$$              194.0   \n",
       "1   1537.0     4.0         NaN               10.0   \n",
       "2    353.0     4.5        $$$$              688.0   \n",
       "3   3458.0     5.0         NaN                3.0   \n",
       "4    621.0     4.0    $$ - $$$               84.0   \n",
       "\n",
       "                                             Reviews  \\\n",
       "0  [['Good food at your doorstep', 'A good hotel ...   \n",
       "1  [['Unique cuisine', 'Delicious Nepalese food']...   \n",
       "2  [['Catch up with friends', 'Not exceptional'],...   \n",
       "3                                           [[], []]   \n",
       "4  [['Best place to try a Bavarian food', 'Nice b...   \n",
       "\n",
       "                                              URL_TA     ID_TA  \n",
       "0  /Restaurant_Review-g187147-d1912643-Reviews-R_...  d1912643  \n",
       "1  /Restaurant_Review-g189852-d7992032-Reviews-Bu...  d7992032  \n",
       "2  /Restaurant_Review-g186338-d8632781-Reviews-RO...  d8632781  \n",
       "3  /Restaurant_Review-g187323-d1358776-Reviews-Es...  d1358776  \n",
       "4  /Restaurant_Review-g187309-d6864963-Reviews-Au...  d6864963  "
      ]
     },
     "execution_count": 7,
     "metadata": {},
     "output_type": "execute_result"
    }
   ],
   "source": [
    "df_train.head(5)"
   ]
  },
  {
   "cell_type": "code",
   "execution_count": 8,
   "metadata": {
    "execution": {
     "iopub.execute_input": "2021-07-14T04:32:21.718381Z",
     "iopub.status.busy": "2021-07-14T04:32:21.718053Z",
     "iopub.status.idle": "2021-07-14T04:32:21.736068Z",
     "shell.execute_reply": "2021-07-14T04:32:21.735019Z",
     "shell.execute_reply.started": "2021-07-14T04:32:21.718313Z"
    }
   },
   "outputs": [
    {
     "name": "stdout",
     "output_type": "stream",
     "text": [
      "<class 'pandas.core.frame.DataFrame'>\n",
      "RangeIndex: 10000 entries, 0 to 9999\n",
      "Data columns (total 9 columns):\n",
      "Restaurant_id        10000 non-null object\n",
      "City                 10000 non-null object\n",
      "Cuisine Style        7693 non-null object\n",
      "Ranking              10000 non-null float64\n",
      "Price Range          6525 non-null object\n",
      "Number of Reviews    9343 non-null float64\n",
      "Reviews              9998 non-null object\n",
      "URL_TA               10000 non-null object\n",
      "ID_TA                10000 non-null object\n",
      "dtypes: float64(2), object(7)\n",
      "memory usage: 703.2+ KB\n"
     ]
    }
   ],
   "source": [
    "df_test.info()"
   ]
  },
  {
   "cell_type": "code",
   "execution_count": 9,
   "metadata": {
    "execution": {
     "iopub.execute_input": "2021-07-14T04:32:21.737408Z",
     "iopub.status.busy": "2021-07-14T04:32:21.737159Z",
     "iopub.status.idle": "2021-07-14T04:32:21.752311Z",
     "shell.execute_reply": "2021-07-14T04:32:21.751782Z",
     "shell.execute_reply.started": "2021-07-14T04:32:21.737356Z"
    }
   },
   "outputs": [
    {
     "data": {
      "text/html": [
       "<div>\n",
       "<style scoped>\n",
       "    .dataframe tbody tr th:only-of-type {\n",
       "        vertical-align: middle;\n",
       "    }\n",
       "\n",
       "    .dataframe tbody tr th {\n",
       "        vertical-align: top;\n",
       "    }\n",
       "\n",
       "    .dataframe thead th {\n",
       "        text-align: right;\n",
       "    }\n",
       "</style>\n",
       "<table border=\"1\" class=\"dataframe\">\n",
       "  <thead>\n",
       "    <tr style=\"text-align: right;\">\n",
       "      <th></th>\n",
       "      <th>Restaurant_id</th>\n",
       "      <th>City</th>\n",
       "      <th>Cuisine Style</th>\n",
       "      <th>Ranking</th>\n",
       "      <th>Price Range</th>\n",
       "      <th>Number of Reviews</th>\n",
       "      <th>Reviews</th>\n",
       "      <th>URL_TA</th>\n",
       "      <th>ID_TA</th>\n",
       "    </tr>\n",
       "  </thead>\n",
       "  <tbody>\n",
       "    <tr>\n",
       "      <th>0</th>\n",
       "      <td>id_0</td>\n",
       "      <td>Paris</td>\n",
       "      <td>['Bar', 'Pub']</td>\n",
       "      <td>12963.0</td>\n",
       "      <td>$$ - $$$</td>\n",
       "      <td>4.0</td>\n",
       "      <td>[[], []]</td>\n",
       "      <td>/Restaurant_Review-g187147-d10746918-Reviews-L...</td>\n",
       "      <td>d10746918</td>\n",
       "    </tr>\n",
       "    <tr>\n",
       "      <th>1</th>\n",
       "      <td>id_1</td>\n",
       "      <td>Helsinki</td>\n",
       "      <td>['European', 'Scandinavian', 'Gluten Free Opti...</td>\n",
       "      <td>106.0</td>\n",
       "      <td>$$ - $$$</td>\n",
       "      <td>97.0</td>\n",
       "      <td>[['Very good reviews!', 'Fine dining in Hakani...</td>\n",
       "      <td>/Restaurant_Review-g189934-d6674944-Reviews-Ra...</td>\n",
       "      <td>d6674944</td>\n",
       "    </tr>\n",
       "    <tr>\n",
       "      <th>2</th>\n",
       "      <td>id_2</td>\n",
       "      <td>Edinburgh</td>\n",
       "      <td>['Vegetarian Friendly']</td>\n",
       "      <td>810.0</td>\n",
       "      <td>$$ - $$$</td>\n",
       "      <td>28.0</td>\n",
       "      <td>[['Better than the Links', 'Ivy Black'], ['12/...</td>\n",
       "      <td>/Restaurant_Review-g186525-d13129638-Reviews-B...</td>\n",
       "      <td>d13129638</td>\n",
       "    </tr>\n",
       "    <tr>\n",
       "      <th>3</th>\n",
       "      <td>id_3</td>\n",
       "      <td>London</td>\n",
       "      <td>['Italian', 'Mediterranean', 'European', 'Vege...</td>\n",
       "      <td>1669.0</td>\n",
       "      <td>$$$$</td>\n",
       "      <td>202.0</td>\n",
       "      <td>[['Most exquisite', 'Delicious and authentic']...</td>\n",
       "      <td>/Restaurant_Review-g186338-d680417-Reviews-Qui...</td>\n",
       "      <td>d680417</td>\n",
       "    </tr>\n",
       "    <tr>\n",
       "      <th>4</th>\n",
       "      <td>id_4</td>\n",
       "      <td>Bratislava</td>\n",
       "      <td>['Italian', 'Mediterranean', 'European', 'Seaf...</td>\n",
       "      <td>37.0</td>\n",
       "      <td>$$$$</td>\n",
       "      <td>162.0</td>\n",
       "      <td>[['Always the best in bratislava', 'Very good ...</td>\n",
       "      <td>/Restaurant_Review-g274924-d1112354-Reviews-Ma...</td>\n",
       "      <td>d1112354</td>\n",
       "    </tr>\n",
       "  </tbody>\n",
       "</table>\n",
       "</div>"
      ],
      "text/plain": [
       "  Restaurant_id        City  \\\n",
       "0          id_0       Paris   \n",
       "1          id_1    Helsinki   \n",
       "2          id_2   Edinburgh   \n",
       "3          id_3      London   \n",
       "4          id_4  Bratislava   \n",
       "\n",
       "                                       Cuisine Style  Ranking Price Range  \\\n",
       "0                                     ['Bar', 'Pub']  12963.0    $$ - $$$   \n",
       "1  ['European', 'Scandinavian', 'Gluten Free Opti...    106.0    $$ - $$$   \n",
       "2                            ['Vegetarian Friendly']    810.0    $$ - $$$   \n",
       "3  ['Italian', 'Mediterranean', 'European', 'Vege...   1669.0        $$$$   \n",
       "4  ['Italian', 'Mediterranean', 'European', 'Seaf...     37.0        $$$$   \n",
       "\n",
       "   Number of Reviews                                            Reviews  \\\n",
       "0                4.0                                           [[], []]   \n",
       "1               97.0  [['Very good reviews!', 'Fine dining in Hakani...   \n",
       "2               28.0  [['Better than the Links', 'Ivy Black'], ['12/...   \n",
       "3              202.0  [['Most exquisite', 'Delicious and authentic']...   \n",
       "4              162.0  [['Always the best in bratislava', 'Very good ...   \n",
       "\n",
       "                                              URL_TA      ID_TA  \n",
       "0  /Restaurant_Review-g187147-d10746918-Reviews-L...  d10746918  \n",
       "1  /Restaurant_Review-g189934-d6674944-Reviews-Ra...   d6674944  \n",
       "2  /Restaurant_Review-g186525-d13129638-Reviews-B...  d13129638  \n",
       "3  /Restaurant_Review-g186338-d680417-Reviews-Qui...    d680417  \n",
       "4  /Restaurant_Review-g274924-d1112354-Reviews-Ma...   d1112354  "
      ]
     },
     "execution_count": 9,
     "metadata": {},
     "output_type": "execute_result"
    }
   ],
   "source": [
    "df_test.head(5)"
   ]
  },
  {
   "cell_type": "code",
   "execution_count": 10,
   "metadata": {
    "execution": {
     "iopub.execute_input": "2021-07-14T04:32:21.753873Z",
     "iopub.status.busy": "2021-07-14T04:32:21.753455Z",
     "iopub.status.idle": "2021-07-14T04:32:21.766457Z",
     "shell.execute_reply": "2021-07-14T04:32:21.765807Z",
     "shell.execute_reply.started": "2021-07-14T04:32:21.753829Z"
    }
   },
   "outputs": [
    {
     "data": {
      "text/html": [
       "<div>\n",
       "<style scoped>\n",
       "    .dataframe tbody tr th:only-of-type {\n",
       "        vertical-align: middle;\n",
       "    }\n",
       "\n",
       "    .dataframe tbody tr th {\n",
       "        vertical-align: top;\n",
       "    }\n",
       "\n",
       "    .dataframe thead th {\n",
       "        text-align: right;\n",
       "    }\n",
       "</style>\n",
       "<table border=\"1\" class=\"dataframe\">\n",
       "  <thead>\n",
       "    <tr style=\"text-align: right;\">\n",
       "      <th></th>\n",
       "      <th>Restaurant_id</th>\n",
       "      <th>Rating</th>\n",
       "    </tr>\n",
       "  </thead>\n",
       "  <tbody>\n",
       "    <tr>\n",
       "      <th>0</th>\n",
       "      <td>id_0</td>\n",
       "      <td>2.0</td>\n",
       "    </tr>\n",
       "    <tr>\n",
       "      <th>1</th>\n",
       "      <td>id_1</td>\n",
       "      <td>2.5</td>\n",
       "    </tr>\n",
       "    <tr>\n",
       "      <th>2</th>\n",
       "      <td>id_2</td>\n",
       "      <td>4.0</td>\n",
       "    </tr>\n",
       "    <tr>\n",
       "      <th>3</th>\n",
       "      <td>id_3</td>\n",
       "      <td>1.0</td>\n",
       "    </tr>\n",
       "    <tr>\n",
       "      <th>4</th>\n",
       "      <td>id_4</td>\n",
       "      <td>4.0</td>\n",
       "    </tr>\n",
       "  </tbody>\n",
       "</table>\n",
       "</div>"
      ],
      "text/plain": [
       "  Restaurant_id  Rating\n",
       "0          id_0     2.0\n",
       "1          id_1     2.5\n",
       "2          id_2     4.0\n",
       "3          id_3     1.0\n",
       "4          id_4     4.0"
      ]
     },
     "execution_count": 10,
     "metadata": {},
     "output_type": "execute_result"
    }
   ],
   "source": [
    "sample_submission.head(5)"
   ]
  },
  {
   "cell_type": "code",
   "execution_count": 11,
   "metadata": {
    "execution": {
     "iopub.execute_input": "2021-07-14T04:32:21.767938Z",
     "iopub.status.busy": "2021-07-14T04:32:21.767511Z",
     "iopub.status.idle": "2021-07-14T04:32:21.780685Z",
     "shell.execute_reply": "2021-07-14T04:32:21.779803Z",
     "shell.execute_reply.started": "2021-07-14T04:32:21.767831Z"
    }
   },
   "outputs": [
    {
     "name": "stdout",
     "output_type": "stream",
     "text": [
      "<class 'pandas.core.frame.DataFrame'>\n",
      "RangeIndex: 10000 entries, 0 to 9999\n",
      "Data columns (total 2 columns):\n",
      "Restaurant_id    10000 non-null object\n",
      "Rating           10000 non-null float64\n",
      "dtypes: float64(1), object(1)\n",
      "memory usage: 156.4+ KB\n"
     ]
    }
   ],
   "source": [
    "sample_submission.info()"
   ]
  },
  {
   "cell_type": "code",
   "execution_count": 12,
   "metadata": {
    "execution": {
     "iopub.execute_input": "2021-07-14T04:32:21.782162Z",
     "iopub.status.busy": "2021-07-14T04:32:21.781852Z",
     "iopub.status.idle": "2021-07-14T04:32:21.829197Z",
     "shell.execute_reply": "2021-07-14T04:32:21.828492Z",
     "shell.execute_reply.started": "2021-07-14T04:32:21.782127Z"
    }
   },
   "outputs": [],
   "source": [
    "# ВАЖНО! дря корректной обработки признаков объединяем трейн и тест в один датасет\n",
    "df_train['sample'] = 1 # помечаем где у нас трейн\n",
    "df_test['sample'] = 0 # помечаем где у нас тест\n",
    "# в тесте у нас нет значения Rating, мы его должны предсказать, по этому пока просто заполняем нулями\n",
    "df_test['Rating'] = 0 \n",
    "\n",
    "# объединяем\n",
    "data = df_test.append(df_train, sort=False).reset_index(drop=True) "
   ]
  },
  {
   "cell_type": "code",
   "execution_count": 13,
   "metadata": {
    "execution": {
     "iopub.execute_input": "2021-07-14T04:32:21.830503Z",
     "iopub.status.busy": "2021-07-14T04:32:21.830282Z",
     "iopub.status.idle": "2021-07-14T04:32:21.871721Z",
     "shell.execute_reply": "2021-07-14T04:32:21.870771Z",
     "shell.execute_reply.started": "2021-07-14T04:32:21.830465Z"
    }
   },
   "outputs": [
    {
     "name": "stdout",
     "output_type": "stream",
     "text": [
      "<class 'pandas.core.frame.DataFrame'>\n",
      "RangeIndex: 50000 entries, 0 to 49999\n",
      "Data columns (total 11 columns):\n",
      "Restaurant_id        50000 non-null object\n",
      "City                 50000 non-null object\n",
      "Cuisine Style        38410 non-null object\n",
      "Ranking              50000 non-null float64\n",
      "Price Range          32639 non-null object\n",
      "Number of Reviews    46800 non-null float64\n",
      "Reviews              49998 non-null object\n",
      "URL_TA               50000 non-null object\n",
      "ID_TA                50000 non-null object\n",
      "sample               50000 non-null int64\n",
      "Rating               50000 non-null float64\n",
      "dtypes: float64(3), int64(1), object(7)\n",
      "memory usage: 4.2+ MB\n"
     ]
    }
   ],
   "source": [
    "data.info()"
   ]
  },
  {
   "cell_type": "markdown",
   "metadata": {},
   "source": [
    "Подробнее по признакам:\n",
    "* City: Город \n",
    "* Cuisine Style: Кухня\n",
    "* Ranking: Ранг ресторана относительно других ресторанов в этом городе\n",
    "* Price Range: Цены в ресторане в 3 категориях\n",
    "* Number of Reviews: Количество отзывов\n",
    "* Reviews: 2 последних отзыва и даты этих отзывов\n",
    "* URL_TA: страница ресторана на 'www.tripadvisor.com' \n",
    "* ID_TA: ID ресторана в TripAdvisor\n",
    "* Rating: Рейтинг ресторана"
   ]
  },
  {
   "cell_type": "code",
   "execution_count": 14,
   "metadata": {
    "execution": {
     "iopub.execute_input": "2021-07-14T04:32:21.873387Z",
     "iopub.status.busy": "2021-07-14T04:32:21.873000Z",
     "iopub.status.idle": "2021-07-14T04:32:21.891916Z",
     "shell.execute_reply": "2021-07-14T04:32:21.891311Z",
     "shell.execute_reply.started": "2021-07-14T04:32:21.873344Z"
    }
   },
   "outputs": [
    {
     "data": {
      "text/html": [
       "<div>\n",
       "<style scoped>\n",
       "    .dataframe tbody tr th:only-of-type {\n",
       "        vertical-align: middle;\n",
       "    }\n",
       "\n",
       "    .dataframe tbody tr th {\n",
       "        vertical-align: top;\n",
       "    }\n",
       "\n",
       "    .dataframe thead th {\n",
       "        text-align: right;\n",
       "    }\n",
       "</style>\n",
       "<table border=\"1\" class=\"dataframe\">\n",
       "  <thead>\n",
       "    <tr style=\"text-align: right;\">\n",
       "      <th></th>\n",
       "      <th>Restaurant_id</th>\n",
       "      <th>City</th>\n",
       "      <th>Cuisine Style</th>\n",
       "      <th>Ranking</th>\n",
       "      <th>Price Range</th>\n",
       "      <th>Number of Reviews</th>\n",
       "      <th>Reviews</th>\n",
       "      <th>URL_TA</th>\n",
       "      <th>ID_TA</th>\n",
       "      <th>sample</th>\n",
       "      <th>Rating</th>\n",
       "    </tr>\n",
       "  </thead>\n",
       "  <tbody>\n",
       "    <tr>\n",
       "      <th>48751</th>\n",
       "      <td>id_2479</td>\n",
       "      <td>Paris</td>\n",
       "      <td>['French', 'European', 'Wine Bar']</td>\n",
       "      <td>2480.0</td>\n",
       "      <td>$$ - $$$</td>\n",
       "      <td>113.0</td>\n",
       "      <td>[['Not what we were looking for', 'NIce place,...</td>\n",
       "      <td>/Restaurant_Review-g187147-d6584373-Reviews-Le...</td>\n",
       "      <td>d6584373</td>\n",
       "      <td>1</td>\n",
       "      <td>4.0</td>\n",
       "    </tr>\n",
       "    <tr>\n",
       "      <th>37685</th>\n",
       "      <td>id_117</td>\n",
       "      <td>Oporto</td>\n",
       "      <td>['European', 'Portuguese', 'Soups']</td>\n",
       "      <td>118.0</td>\n",
       "      <td>$</td>\n",
       "      <td>448.0</td>\n",
       "      <td>[['Just ace', 'So tasty! Love it'], ['02/19/20...</td>\n",
       "      <td>/Restaurant_Review-g189180-d1748939-Reviews-No...</td>\n",
       "      <td>d1748939</td>\n",
       "      <td>1</td>\n",
       "      <td>4.5</td>\n",
       "    </tr>\n",
       "    <tr>\n",
       "      <th>1567</th>\n",
       "      <td>id_1567</td>\n",
       "      <td>Madrid</td>\n",
       "      <td>NaN</td>\n",
       "      <td>7392.0</td>\n",
       "      <td>NaN</td>\n",
       "      <td>NaN</td>\n",
       "      <td>[[], []]</td>\n",
       "      <td>/Restaurant_Review-g187514-d13328807-Reviews-C...</td>\n",
       "      <td>d13328807</td>\n",
       "      <td>0</td>\n",
       "      <td>0.0</td>\n",
       "    </tr>\n",
       "    <tr>\n",
       "      <th>27001</th>\n",
       "      <td>id_4620</td>\n",
       "      <td>Barcelona</td>\n",
       "      <td>['Mediterranean', 'Spanish']</td>\n",
       "      <td>4621.0</td>\n",
       "      <td>$</td>\n",
       "      <td>26.0</td>\n",
       "      <td>[[\"Don't eat like a tourist -- visit here!\", '...</td>\n",
       "      <td>/Restaurant_Review-g187497-d2361542-Reviews-Ba...</td>\n",
       "      <td>d2361542</td>\n",
       "      <td>1</td>\n",
       "      <td>3.5</td>\n",
       "    </tr>\n",
       "    <tr>\n",
       "      <th>28825</th>\n",
       "      <td>id_660</td>\n",
       "      <td>Edinburgh</td>\n",
       "      <td>['Cafe', 'Mediterranean', 'Turkish', 'Vegan Op...</td>\n",
       "      <td>661.0</td>\n",
       "      <td>$</td>\n",
       "      <td>83.0</td>\n",
       "      <td>[[\"I'm a regular because it's great!\", 'Fringe...</td>\n",
       "      <td>/Restaurant_Review-g186525-d5850439-Reviews-Ol...</td>\n",
       "      <td>d5850439</td>\n",
       "      <td>1</td>\n",
       "      <td>4.5</td>\n",
       "    </tr>\n",
       "  </tbody>\n",
       "</table>\n",
       "</div>"
      ],
      "text/plain": [
       "      Restaurant_id       City  \\\n",
       "48751       id_2479      Paris   \n",
       "37685        id_117     Oporto   \n",
       "1567        id_1567     Madrid   \n",
       "27001       id_4620  Barcelona   \n",
       "28825        id_660  Edinburgh   \n",
       "\n",
       "                                           Cuisine Style  Ranking Price Range  \\\n",
       "48751                 ['French', 'European', 'Wine Bar']   2480.0    $$ - $$$   \n",
       "37685                ['European', 'Portuguese', 'Soups']    118.0           $   \n",
       "1567                                                 NaN   7392.0         NaN   \n",
       "27001                       ['Mediterranean', 'Spanish']   4621.0           $   \n",
       "28825  ['Cafe', 'Mediterranean', 'Turkish', 'Vegan Op...    661.0           $   \n",
       "\n",
       "       Number of Reviews                                            Reviews  \\\n",
       "48751              113.0  [['Not what we were looking for', 'NIce place,...   \n",
       "37685              448.0  [['Just ace', 'So tasty! Love it'], ['02/19/20...   \n",
       "1567                 NaN                                           [[], []]   \n",
       "27001               26.0  [[\"Don't eat like a tourist -- visit here!\", '...   \n",
       "28825               83.0  [[\"I'm a regular because it's great!\", 'Fringe...   \n",
       "\n",
       "                                                  URL_TA      ID_TA  sample  \\\n",
       "48751  /Restaurant_Review-g187147-d6584373-Reviews-Le...   d6584373       1   \n",
       "37685  /Restaurant_Review-g189180-d1748939-Reviews-No...   d1748939       1   \n",
       "1567   /Restaurant_Review-g187514-d13328807-Reviews-C...  d13328807       0   \n",
       "27001  /Restaurant_Review-g187497-d2361542-Reviews-Ba...   d2361542       1   \n",
       "28825  /Restaurant_Review-g186525-d5850439-Reviews-Ol...   d5850439       1   \n",
       "\n",
       "       Rating  \n",
       "48751     4.0  \n",
       "37685     4.5  \n",
       "1567      0.0  \n",
       "27001     3.5  \n",
       "28825     4.5  "
      ]
     },
     "execution_count": 14,
     "metadata": {},
     "output_type": "execute_result"
    }
   ],
   "source": [
    "data.sample(5)"
   ]
  },
  {
   "cell_type": "code",
   "execution_count": 15,
   "metadata": {
    "execution": {
     "iopub.execute_input": "2021-07-14T04:32:21.893837Z",
     "iopub.status.busy": "2021-07-14T04:32:21.893211Z",
     "iopub.status.idle": "2021-07-14T04:32:21.900445Z",
     "shell.execute_reply": "2021-07-14T04:32:21.899721Z",
     "shell.execute_reply.started": "2021-07-14T04:32:21.893783Z"
    }
   },
   "outputs": [
    {
     "data": {
      "text/plain": [
       "\"[['Very good reviews!', 'Fine dining in Hakaniemi'], ['12/05/2017', '10/29/2017']]\""
      ]
     },
     "execution_count": 15,
     "metadata": {},
     "output_type": "execute_result"
    }
   ],
   "source": [
    "data.Reviews[1]"
   ]
  },
  {
   "cell_type": "markdown",
   "metadata": {},
   "source": [
    "Как видим, большинство признаков у нас требует очистки и предварительной обработки."
   ]
  },
  {
   "cell_type": "markdown",
   "metadata": {},
   "source": [
    "# Cleaning and Prepping Data\n",
    "Обычно данные содержат в себе кучу мусора, который необходимо почистить, для того чтобы привести их в приемлемый формат. Чистка данных — это необходимый этап решения почти любой реальной задачи.   \n",
    "![](https://analyticsindiamag.com/wp-content/uploads/2018/01/data-cleaning.png)"
   ]
  },
  {
   "cell_type": "code",
   "execution_count": 16,
   "metadata": {
    "execution": {
     "iopub.execute_input": "2021-07-14T04:32:21.902243Z",
     "iopub.status.busy": "2021-07-14T04:32:21.901937Z",
     "iopub.status.idle": "2021-07-14T04:32:21.910372Z",
     "shell.execute_reply": "2021-07-14T04:32:21.909558Z",
     "shell.execute_reply.started": "2021-07-14T04:32:21.902188Z"
    }
   },
   "outputs": [
    {
     "data": {
      "text/plain": [
       "Index(['Restaurant_id', 'City', 'Cuisine_Style', 'Ranking', 'Price_Range',\n",
       "       'Number_of_Reviews', 'Reviews', 'URL_TA', 'ID_TA', 'sample', 'Rating'],\n",
       "      dtype='object')"
      ]
     },
     "execution_count": 16,
     "metadata": {},
     "output_type": "execute_result"
    }
   ],
   "source": [
    "# Приведем названия колонок к нормальному виду:\n",
    "#data.columns = [s.lower() for s in data.columns]\n",
    "data.columns = [s.replace(' ', '_') for s in data.columns]\n",
    "data.columns"
   ]
  },
  {
   "cell_type": "code",
   "execution_count": 17,
   "metadata": {
    "execution": {
     "iopub.execute_input": "2021-07-14T04:32:21.911990Z",
     "iopub.status.busy": "2021-07-14T04:32:21.911531Z",
     "iopub.status.idle": "2021-07-14T04:32:22.243074Z",
     "shell.execute_reply": "2021-07-14T04:32:22.242082Z",
     "shell.execute_reply.started": "2021-07-14T04:32:21.911937Z"
    }
   },
   "outputs": [
    {
     "name": "stdout",
     "output_type": "stream",
     "text": [
      "Размерность набора (строки, столбцы): (50000, 11) \n",
      "\n",
      "Кол-во полных дубликатов: 0\n",
      "Кол-во пустых строк:      0\n",
      "Кол-во строк, имеющих хотя бы одно пустое значение: 17891\n",
      "Кол-во строк, не имеющих ни одного пустого значения: 32109 \n",
      "\n",
      "Информация о пустых значениях по столбцам (в процентах):\n"
     ]
    },
    {
     "data": {
      "text/plain": [
       "Restaurant_id         0.000\n",
       "City                  0.000\n",
       "Cuisine_Style        23.180\n",
       "Ranking               0.000\n",
       "Price_Range          34.722\n",
       "Number_of_Reviews     6.400\n",
       "Reviews               0.004\n",
       "URL_TA                0.000\n",
       "ID_TA                 0.000\n",
       "sample                0.000\n",
       "Rating                0.000\n",
       "dtype: float64"
      ]
     },
     "metadata": {},
     "output_type": "display_data"
    }
   ],
   "source": [
    "# Посмотрим чуть более подробно на пустые значения во всем наборе\n",
    "data_description(data)"
   ]
  },
  {
   "cell_type": "markdown",
   "metadata": {},
   "source": [
    "Как можно увидеть, у нас достаточно много строк имеющих пропуски (32109 из 50000).\n",
    "И все они в четырех колонках с пропусками: cuisine_style, price_range, number_of_reviews и reviews.\n",
    "Позже обработаем каждую из них.\n",
    "\n",
    "У наличия пропусков могут быть разные причины, но пропуски нужно либо заполнить, либо исключить из набора полностью. Но с пропусками нужно быть внимательным, **даже отсутствие информации может быть важным признаком!**   \n",
    "По этому перед обработкой NAN лучше вынести информацию о наличии пропуска как отдельный признак "
   ]
  },
  {
   "cell_type": "markdown",
   "metadata": {},
   "source": [
    "## Обработка признаков"
   ]
  },
  {
   "cell_type": "markdown",
   "metadata": {},
   "source": [
    "### 1 City_population"
   ]
  },
  {
   "cell_type": "code",
   "execution_count": 18,
   "metadata": {
    "execution": {
     "iopub.execute_input": "2021-07-14T04:32:22.245042Z",
     "iopub.status.busy": "2021-07-14T04:32:22.244687Z",
     "iopub.status.idle": "2021-07-14T04:32:22.268978Z",
     "shell.execute_reply": "2021-07-14T04:32:22.268281Z",
     "shell.execute_reply.started": "2021-07-14T04:32:22.244979Z"
    }
   },
   "outputs": [
    {
     "name": "stdout",
     "output_type": "stream",
     "text": [
      "City_population :  <class 'numpy.int64'>\n",
      "Уникальных значений  30  из 50000\n",
      "NaN  0 ( 0.0 % )\n"
     ]
    },
    {
     "data": {
      "text/plain": [
       "10979    7193\n",
       "11020    6108\n",
       "3266     3813\n",
       "4588     3395\n",
       "3645     2705\n",
       "1352     2694\n",
       "Name: City_population, dtype: int64"
      ]
     },
     "metadata": {},
     "output_type": "display_data"
    }
   ],
   "source": [
    "# Добавим признак населения по городу (в тыс.), источник worldcities.csv с simplemaps.com\n",
    "city_population = {'London': 10979, 'Paris': 11020, 'Madrid': 3266, 'Barcelona': 4588,\n",
    "                   'Berlin': 3645, 'Milan': 1352, 'Rome': 2873, 'Prague': 1324,\n",
    "                   'Lisbon': 507, 'Vienna': 1841, 'Amsterdam': 1031, 'Brussels': 185,\n",
    "                   'Hamburg': 1841, 'Munich': 1472, 'Lyon': 516, 'Stockholm': 973,\n",
    "                  'Budapest': 1752, 'Warsaw': 1791, 'Dublin': 1173,\n",
    "                  'Copenhagen': 1085, 'Athens': 664, 'Edinburgh': 488,\n",
    "                  'Zurich': 434, 'Oporto': 233, 'Geneva': 201, 'Krakow': 767,\n",
    "                  'Oslo': 693, 'Helsinki': 642, 'Bratislava': 429,\n",
    "                 'Luxembourg': 122, 'Ljubljana': 284}\n",
    "\n",
    "data['City_population'] = data['City'].map(city_population)\n",
    "field_values(data, 'City_population')"
   ]
  },
  {
   "cell_type": "markdown",
   "metadata": {},
   "source": [
    "### 2 Restaurant_id"
   ]
  },
  {
   "cell_type": "code",
   "execution_count": 19,
   "metadata": {
    "execution": {
     "iopub.execute_input": "2021-07-14T04:32:22.270427Z",
     "iopub.status.busy": "2021-07-14T04:32:22.270211Z",
     "iopub.status.idle": "2021-07-14T04:32:22.424274Z",
     "shell.execute_reply": "2021-07-14T04:32:22.423412Z",
     "shell.execute_reply.started": "2021-07-14T04:32:22.270389Z"
    }
   },
   "outputs": [
    {
     "name": "stdout",
     "output_type": "stream",
     "text": [
      "Restaurant_id :  <class 'str'>\n",
      "Уникальных значений  13094  из 50000\n",
      "NaN  0 ( 0.0 % )\n"
     ]
    },
    {
     "data": {
      "text/plain": [
       "id_436    19\n",
       "id_227    19\n",
       "id_633    19\n",
       "id_871    19\n",
       "id_321    18\n",
       "id_534    18\n",
       "Name: Restaurant_id, dtype: int64"
      ]
     },
     "metadata": {},
     "output_type": "display_data"
    },
    {
     "name": "stdout",
     "output_type": "stream",
     "text": [
      "Restaurant_Chain :  <class 'numpy.int64'>\n",
      "Уникальных значений  2  из 50000\n",
      "NaN  0 ( 0.0 % )\n"
     ]
    },
    {
     "data": {
      "text/plain": [
       "Restaurant_Chain\n",
       "0     3807\n",
       "1    46193\n",
       "Name: Restaurant_Chain, dtype: int64"
      ]
     },
     "metadata": {},
     "output_type": "display_data"
    }
   ],
   "source": [
    "# Посмотрим на значения в этом столбце\n",
    "field_values(data, 'Restaurant_id')\n",
    "\n",
    "\n",
    "# Создадим новый признак Restaurant_Chain: 1 - сетевой, 0 - несетевой.\n",
    "chain_list = data['Restaurant_id'].value_counts(\n",
    ")[data['Restaurant_id'].value_counts() > 1].index\n",
    "\n",
    "data['Restaurant_Chain'] = data['Restaurant_id'].apply(\n",
    "    lambda x: 1 if x in chain_list else 0)\n",
    "\n",
    "field_values(data, 'Restaurant_Chain')"
   ]
  },
  {
   "cell_type": "markdown",
   "metadata": {},
   "source": [
    "### 3 Price_Range"
   ]
  },
  {
   "cell_type": "code",
   "execution_count": 20,
   "metadata": {
    "execution": {
     "iopub.execute_input": "2021-07-14T04:32:22.425958Z",
     "iopub.status.busy": "2021-07-14T04:32:22.425706Z",
     "iopub.status.idle": "2021-07-14T04:32:24.199770Z",
     "shell.execute_reply": "2021-07-14T04:32:24.198990Z",
     "shell.execute_reply.started": "2021-07-14T04:32:22.425901Z"
    }
   },
   "outputs": [
    {
     "name": "stdout",
     "output_type": "stream",
     "text": [
      "Price_Range :  <class 'str'>\n",
      "Уникальных значений  3  из 50000\n",
      "NaN  17361 ( 34.72 % )\n"
     ]
    },
    {
     "data": {
      "text/plain": [
       "Price_Range\n",
       "$            7816\n",
       "$$ - $$$    23041\n",
       "$$$$         1782\n",
       "Name: Price_Range, dtype: int64"
      ]
     },
     "metadata": {},
     "output_type": "display_data"
    },
    {
     "name": "stdout",
     "output_type": "stream",
     "text": [
      "Price_Range :  <class 'numpy.float64'>\n",
      "Уникальных значений  3  из 50000\n",
      "NaN  0 ( 0.0 % )\n"
     ]
    },
    {
     "data": {
      "text/plain": [
       "Price_Range\n",
       "1.0     7816\n",
       "2.0    40402\n",
       "3.0     1782\n",
       "Name: Price_Range, dtype: int64"
      ]
     },
     "metadata": {},
     "output_type": "display_data"
    }
   ],
   "source": [
    "# Посмотрим на значения в этом столбце\n",
    "field_values(data, 'Price_Range')\n",
    "\n",
    "# В колонке price_range 17361 (34.72%) пропущенных значений \n",
    "# Создадим новый булевый столбец cuisine_style_nan, чтобы не потерять данные\n",
    "data['Price_Range_nan'] = pd.isna(data['Price_Range']).astype('uint8')\n",
    "\n",
    "# Переведем столбец с ценовой категорией в числовой формат\n",
    "price_dict = {'$$$$': 3,\n",
    "              '$$ - $$$': 2, \n",
    "              '$': 1}\n",
    "data['Price_Range'] = data['Price_Range'].replace(to_replace=price_dict)\n",
    "\n",
    "# Заполним NaN медианой по городу\n",
    "df = data.groupby('City')['Price_Range'].median()\n",
    "data['Price_Range'].fillna(data['City'].apply(lambda x: df.loc[x]), inplace=True)\n",
    "\n",
    "# Заполним NaN 0\n",
    "#data['Price_Range'].fillna(0, inplace=True)\n",
    "\n",
    "# и проверим \n",
    "field_values(data, 'Price_Range') "
   ]
  },
  {
   "cell_type": "markdown",
   "metadata": {},
   "source": [
    "### 4 Number_of_Reviews"
   ]
  },
  {
   "cell_type": "code",
   "execution_count": 21,
   "metadata": {
    "execution": {
     "iopub.execute_input": "2021-07-14T04:32:24.201904Z",
     "iopub.status.busy": "2021-07-14T04:32:24.201527Z",
     "iopub.status.idle": "2021-07-14T04:32:26.053723Z",
     "shell.execute_reply": "2021-07-14T04:32:26.052696Z",
     "shell.execute_reply.started": "2021-07-14T04:32:24.201819Z"
    }
   },
   "outputs": [
    {
     "name": "stdout",
     "output_type": "stream",
     "text": [
      "Number_of_Reviews :  <class 'numpy.float64'>\n",
      "Уникальных значений  1573  из 50000\n",
      "NaN  3200 ( 6.4 % )\n"
     ]
    },
    {
     "data": {
      "text/plain": [
       "2.0    2403\n",
       "3.0    2042\n",
       "4.0    1707\n",
       "5.0    1471\n",
       "6.0    1258\n",
       "7.0    1126\n",
       "Name: Number_of_Reviews, dtype: int64"
      ]
     },
     "metadata": {},
     "output_type": "display_data"
    },
    {
     "name": "stdout",
     "output_type": "stream",
     "text": [
      "Number_of_Reviews :  <class 'numpy.float64'>\n",
      "Уникальных значений  1573  из 50000\n",
      "NaN  0 ( 0.0 % )\n"
     ]
    }
   ],
   "source": [
    "# Посмотрим на значения в этом столбце\n",
    "field_values(data, 'Number_of_Reviews')\n",
    "\n",
    "# В колонке Number_of_reviews 3200 (6.4%) пропущенных значений \n",
    "# Создадим новый булевый столбец Number_of_reviews_nan, чтобы не потерять данные\n",
    "data['Number_of_Reviews_nan'] = pd.isna(\n",
    "    data['Number_of_Reviews']).astype('uint8')\n",
    "\n",
    "\n",
    "#df = data.groupby(['City'])['Number_of_Reviews'].mean().round()\n",
    "df = data.groupby(['City'])['Number_of_Reviews'].median().round()\n",
    "\n",
    "# Заполним NaN медианой по каждому городу (с mean и 0 чуть хуже результат)\n",
    "data['Number_of_Reviews'].fillna(\n",
    "    data['City'].apply(lambda x: df.loc[x]), inplace=True)\n",
    "\n",
    "#data['Number_of_Reviews'].fillna(0, inplace=True)\n",
    "\n",
    "# Создадим новую колонку Кол-во ревью на 1000 чел проживающих в этом городе\n",
    "data['Reviews_per_population'] = data['Number_of_Reviews'] / data['City_population']\n",
    "\n",
    "# проверим     \n",
    "field_values(data, 'Number_of_Reviews', table=False)"
   ]
  },
  {
   "cell_type": "code",
   "execution_count": 22,
   "metadata": {
    "execution": {
     "iopub.execute_input": "2021-07-14T04:32:26.055723Z",
     "iopub.status.busy": "2021-07-14T04:32:26.055296Z",
     "iopub.status.idle": "2021-07-14T04:32:26.975066Z",
     "shell.execute_reply": "2021-07-14T04:32:26.973783Z",
     "shell.execute_reply.started": "2021-07-14T04:32:26.055631Z"
    }
   },
   "outputs": [
    {
     "name": "stdout",
     "output_type": "stream",
     "text": [
      "Среднее: 118.56, Медиана: 32.0, Мода: [2.0],\n",
      "25-й перцентиль: 10.0, 75-й перцентиль: 106.0, IQR: 96.0.\n",
      "Минимум/максимум: [2.0, 9660.0].\n",
      "Границы выбросов: [-134.0, 250.0].\n"
     ]
    },
    {
     "data": {
      "image/png": "[encoded data removed]",
      "text/plain": [
       "<Figure size 432x288 with 1 Axes>"
      ]
     },
     "metadata": {
      "needs_background": "light"
     },
     "output_type": "display_data"
    }
   ],
   "source": [
    "IQR_hist(data, 'Number_of_Reviews')"
   ]
  },
  {
   "cell_type": "markdown",
   "metadata": {},
   "source": [
    "### 5 Ranking"
   ]
  },
  {
   "cell_type": "code",
   "execution_count": 23,
   "metadata": {
    "execution": {
     "iopub.execute_input": "2021-07-14T04:32:26.977265Z",
     "iopub.status.busy": "2021-07-14T04:32:26.976938Z",
     "iopub.status.idle": "2021-07-14T04:32:27.086199Z",
     "shell.execute_reply": "2021-07-14T04:32:27.085205Z",
     "shell.execute_reply.started": "2021-07-14T04:32:26.977216Z"
    }
   },
   "outputs": [
    {
     "name": "stdout",
     "output_type": "stream",
     "text": [
      "Ranking :  <class 'numpy.float64'>\n",
      "Уникальных значений  12975  из 50000\n",
      "NaN  0 ( 0.0 % )\n"
     ]
    },
    {
     "data": {
      "text/plain": [
       "93.0      22\n",
       "72.0      21\n",
       "491.0     21\n",
       "842.0     21\n",
       "1013.0    20\n",
       "502.0     20\n",
       "Name: Ranking, dtype: int64"
      ]
     },
     "metadata": {},
     "output_type": "display_data"
    }
   ],
   "source": [
    "# Посмотрим на значения в этом столбце\n",
    "field_values(data,'Ranking')\n",
    "\n",
    "# Определим относительный ранг для ресторана внутри города\n",
    "df = data.groupby(['City'])['Ranking'].agg(\n",
    "    ['min', 'max', 'mean', 'std']).reset_index()\n",
    "data = data.merge(df, on='City', how='left')\n",
    "data['Rank_Norm_minmax'] = (\n",
    "    data['Ranking']-data['min']) / (data['max']-data['min'])\n",
    "\n",
    "# MAE чуть лучше с minmax, std - убираем\n",
    "#data['Rank_Norm_std'] = (data['Ranking']-data['mean']) / data['std']\n",
    "\n",
    "# Создадим Ранг на 1000 человек в городе\n",
    "data['Rank_per_population'] =  data['Ranking'] / data['City_population']\n",
    "\n",
    "# Удалим ненужные колонки\n",
    "data.drop(columns=['Ranking','min','max','mean','std'], inplace=True)"
   ]
  },
  {
   "cell_type": "markdown",
   "metadata": {},
   "source": [
    "### 6 Reviews"
   ]
  },
  {
   "cell_type": "code",
   "execution_count": 24,
   "metadata": {
    "execution": {
     "iopub.execute_input": "2021-07-14T04:32:27.088799Z",
     "iopub.status.busy": "2021-07-14T04:32:27.088302Z",
     "iopub.status.idle": "2021-07-14T04:32:27.187990Z",
     "shell.execute_reply": "2021-07-14T04:32:27.187249Z",
     "shell.execute_reply.started": "2021-07-14T04:32:27.088530Z"
    }
   },
   "outputs": [
    {
     "name": "stdout",
     "output_type": "stream",
     "text": [
      "Reviews :  <class 'str'>\n",
      "Уникальных значений  41857  из 50000\n",
      "NaN  2 ( 0.0 % )\n"
     ]
    },
    {
     "data": {
      "text/plain": [
       "[[], []]                                                                                   8112\n",
       "[['Great Asian Option', 'Wow'], ['10/16/2017', '09/07/2016']]                                 2\n",
       "[['The real codido madrileño'], ['03/31/2017']]                                               2\n",
       "[['Good Paella', 'Good enough. Nothing more'], ['09/20/2017', '05/29/2017']]                  2\n",
       "[['Great Food! Wide Variety.', 'Dinner'], ['11/26/2017', '05/23/2017']]                       2\n",
       "[['Thursday snack', 'Good value for money & good food!'], ['03/13/2017', '06/20/2016']]       2\n",
       "Name: Reviews, dtype: int64"
      ]
     },
     "metadata": {},
     "output_type": "display_data"
    },
    {
     "name": "stdout",
     "output_type": "stream",
     "text": [
      "Reviews :  <class 'str'>\n",
      "Уникальных значений  41857  из 50000\n",
      "NaN  0 ( 0.0 % )\n"
     ]
    }
   ],
   "source": [
    "# Посмотрим на значения в этом столбце\n",
    "field_values(data, 'Reviews')\n",
    "\n",
    "# В колонке reviews всего 2 (0.004%) пропущенных значения\n",
    "# Не будем создавать отдельный булевый столбец Reviews_nan\n",
    "\n",
    "# Заполним эти 2 пропуска значением '[[], []]'\n",
    "data['Reviews'].fillna('[[], []]', inplace=True)\n",
    "field_values(data, 'Reviews', table=False)"
   ]
  },
  {
   "cell_type": "code",
   "execution_count": 25,
   "metadata": {
    "execution": {
     "iopub.execute_input": "2021-07-14T04:32:27.189833Z",
     "iopub.status.busy": "2021-07-14T04:32:27.189398Z",
     "iopub.status.idle": "2021-07-14T04:32:31.595461Z",
     "shell.execute_reply": "2021-07-14T04:32:31.594756Z",
     "shell.execute_reply.started": "2021-07-14T04:32:27.189665Z"
    }
   },
   "outputs": [
    {
     "data": {
      "text/plain": [
       "2    36206\n",
       "0     8114\n",
       "1     5680\n",
       "Name: Reviews_Dates_list, dtype: int64"
      ]
     },
     "metadata": {},
     "output_type": "display_data"
    }
   ],
   "source": [
    "# Определим список дат для отзывов (сначало берем второй вложенный список \n",
    "#  и уже в нем убираем лишние символы, даты из первого вложенного списка \n",
    "#  к нам не попадают)\n",
    "data['Reviews_Dates_list'] = data['Reviews'].apply(lambda x: str(x)[str(\n",
    "    x).rfind('[', 3)+1:-2]).str.replace(r\"[',]\", '', regex=True).str.split()\n",
    "\n",
    "# Проверим, что получили список с двумя или одной датой или пустой\n",
    "display(data['Reviews_Dates_list'].str.len().value_counts())\n",
    "\n",
    "# Преобразуем список в поля с типом дата (Data_1 и Data_2)\n",
    "data['Date_1'] = pd.to_datetime(data['Reviews_Dates_list'].apply(\n",
    "    lambda x: x[0] if len(x) > 0 else None))\n",
    "data['Date_2'] = pd.to_datetime(data['Reviews_Dates_list'].apply(\n",
    "    lambda x: x[-1] if len(x) > 0 else None))\n",
    "\n",
    "# Определим минимальную дату и заполним ей пропуске в Data_min и Data_max\n",
    "date_min = min(data['Date_1'].min(), data['Date_2'].min())\n",
    "data['Date_1'].fillna(date_min, inplace=True)\n",
    "data['Date_2'].fillna(date_min, inplace=True)\n",
    "\n",
    "# Создадим колонку с разницой между двумя датами в днях\n",
    "data['Reviews_Days_delta'] = abs(data['Date_1'] - data['Date_2']).dt.days\n",
    "\n",
    "# Создаем колонку с количеством дней, отделяющих последний отзыв от Date_max\n",
    "date_max = max(data['Date_1'].max(), data['Date_2'].max())\n",
    "data['Reviews_Days_from_max'] = data.apply(lambda r: date_max - max(\n",
    "    r['Date_1'], r['Date_2']), axis=1).dt.days\n",
    "\n",
    "# Создадим новый столбец с кол-вом отзывов \n",
    "# data[['Reviews_Dates_count','Reviews_Days_from_max']].corr()\n",
    "# (корреляция с Reviews_Days_from_max больше 0.9 по модулю)\n",
    "# уберем этот столбец, тем более\n",
    "#data['Reviews_Dates_count'] = data['Reviews_Dates_list'].str.len()\n",
    "\n",
    "# Удалим ненужные столбцы\n",
    "data.drop(columns=['Reviews_Dates_list', 'Date_1',\n",
    "          'Date_2', 'Reviews'], inplace=True)"
   ]
  },
  {
   "cell_type": "markdown",
   "metadata": {},
   "source": [
    "### 7 URL_TA, ID_TA"
   ]
  },
  {
   "cell_type": "code",
   "execution_count": 26,
   "metadata": {
    "execution": {
     "iopub.execute_input": "2021-07-14T04:32:31.597210Z",
     "iopub.status.busy": "2021-07-14T04:32:31.596942Z",
     "iopub.status.idle": "2021-07-14T04:32:31.729591Z",
     "shell.execute_reply": "2021-07-14T04:32:31.728846Z",
     "shell.execute_reply.started": "2021-07-14T04:32:31.597165Z"
    }
   },
   "outputs": [
    {
     "name": "stdout",
     "output_type": "stream",
     "text": [
      "URL_TA :  <class 'str'>\n",
      "Уникальных значений  49963  из 50000\n",
      "NaN  0 ( 0.0 % )\n"
     ]
    },
    {
     "data": {
      "text/plain": [
       "/Restaurant_Review-g187514-d4914988-Reviews-Xiang_Asia_Restaurant-Madrid.html      2\n",
       "/Restaurant_Review-g187514-d4748208-Reviews-Restaurante_Te_Oriental-Madrid.html    2\n",
       "/Restaurant_Review-g187514-d10047799-Reviews-Entrepuntos-Madrid.html               2\n",
       "/Restaurant_Review-g187514-d9877640-Reviews-Raku_Sushi-Madrid.html                 2\n",
       "/Restaurant_Review-g187514-d5617412-Reviews-Green_Marta_Iii-Madrid.html            2\n",
       "/Restaurant_Review-g187514-d1028622-Reviews-La_Terraza_del_Urban-Madrid.html       2\n",
       "Name: URL_TA, dtype: int64"
      ]
     },
     "metadata": {},
     "output_type": "display_data"
    },
    {
     "name": "stdout",
     "output_type": "stream",
     "text": [
      "ID_TA :  <class 'str'>\n",
      "Уникальных значений  49963  из 50000\n",
      "NaN  0 ( 0.0 % )\n"
     ]
    },
    {
     "data": {
      "text/plain": [
       "d2669414    2\n",
       "d1315077    2\n",
       "d2010743    2\n",
       "d9877640    2\n",
       "d7342803    2\n",
       "d987900     2\n",
       "Name: ID_TA, dtype: int64"
      ]
     },
     "metadata": {},
     "output_type": "display_data"
    }
   ],
   "source": [
    "# Посмотрим на значения в этих столбцах\n",
    "field_values(data, 'URL_TA')\n",
    "field_values(data, 'ID_TA')"
   ]
  },
  {
   "cell_type": "markdown",
   "metadata": {},
   "source": [
    "Есть 77 записей из 50000, у которых задвоенная информация по полям URL_TA и ID_TA,<br>\n",
    "при этом, как минимум, Restaurant_id и Ranking разный. Что с этим делать не знаю. <br>\n",
    "Оставлю как есть(("
   ]
  },
  {
   "cell_type": "code",
   "execution_count": 27,
   "metadata": {
    "execution": {
     "iopub.execute_input": "2021-07-14T04:32:31.730874Z",
     "iopub.status.busy": "2021-07-14T04:32:31.730653Z",
     "iopub.status.idle": "2021-07-14T04:32:31.754736Z",
     "shell.execute_reply": "2021-07-14T04:32:31.754029Z",
     "shell.execute_reply.started": "2021-07-14T04:32:31.730837Z"
    }
   },
   "outputs": [
    {
     "data": {
      "text/html": [
       "<div>\n",
       "<style scoped>\n",
       "    .dataframe tbody tr th:only-of-type {\n",
       "        vertical-align: middle;\n",
       "    }\n",
       "\n",
       "    .dataframe tbody tr th {\n",
       "        vertical-align: top;\n",
       "    }\n",
       "\n",
       "    .dataframe thead th {\n",
       "        text-align: right;\n",
       "    }\n",
       "</style>\n",
       "<table border=\"1\" class=\"dataframe\">\n",
       "  <thead>\n",
       "    <tr style=\"text-align: right;\">\n",
       "      <th></th>\n",
       "      <th>Restaurant_id</th>\n",
       "      <th>City</th>\n",
       "      <th>Cuisine_Style</th>\n",
       "      <th>Price_Range</th>\n",
       "      <th>Number_of_Reviews</th>\n",
       "      <th>URL_TA</th>\n",
       "      <th>ID_TA</th>\n",
       "      <th>sample</th>\n",
       "      <th>Rating</th>\n",
       "      <th>City_population</th>\n",
       "      <th>Restaurant_Chain</th>\n",
       "      <th>Price_Range_nan</th>\n",
       "      <th>Number_of_Reviews_nan</th>\n",
       "      <th>Reviews_per_population</th>\n",
       "      <th>Rank_Norm_minmax</th>\n",
       "      <th>Rank_per_population</th>\n",
       "      <th>Reviews_Days_delta</th>\n",
       "      <th>Reviews_Days_from_max</th>\n",
       "    </tr>\n",
       "  </thead>\n",
       "  <tbody>\n",
       "    <tr>\n",
       "      <th>20439</th>\n",
       "      <td>id_468</td>\n",
       "      <td>Madrid</td>\n",
       "      <td>['Mediterranean', 'Spanish', 'Vegetarian Frien...</td>\n",
       "      <td>2.0</td>\n",
       "      <td>355.0</td>\n",
       "      <td>/Restaurant_Review-g187514-d1315077-Reviews-El...</td>\n",
       "      <td>d1315077</td>\n",
       "      <td>1</td>\n",
       "      <td>4.0</td>\n",
       "      <td>3266</td>\n",
       "      <td>1</td>\n",
       "      <td>0</td>\n",
       "      <td>0</td>\n",
       "      <td>0.108696</td>\n",
       "      <td>0.053134</td>\n",
       "      <td>0.143601</td>\n",
       "      <td>40</td>\n",
       "      <td>98</td>\n",
       "    </tr>\n",
       "    <tr>\n",
       "      <th>35785</th>\n",
       "      <td>id_511</td>\n",
       "      <td>Madrid</td>\n",
       "      <td>['Mediterranean', 'Spanish', 'Vegetarian Frien...</td>\n",
       "      <td>2.0</td>\n",
       "      <td>355.0</td>\n",
       "      <td>/Restaurant_Review-g187514-d1315077-Reviews-El...</td>\n",
       "      <td>d1315077</td>\n",
       "      <td>1</td>\n",
       "      <td>4.0</td>\n",
       "      <td>3266</td>\n",
       "      <td>1</td>\n",
       "      <td>0</td>\n",
       "      <td>0</td>\n",
       "      <td>0.108696</td>\n",
       "      <td>0.058015</td>\n",
       "      <td>0.156767</td>\n",
       "      <td>40</td>\n",
       "      <td>98</td>\n",
       "    </tr>\n",
       "    <tr>\n",
       "      <th>18421</th>\n",
       "      <td>id_3811</td>\n",
       "      <td>Madrid</td>\n",
       "      <td>['Spanish']</td>\n",
       "      <td>1.0</td>\n",
       "      <td>23.0</td>\n",
       "      <td>/Restaurant_Review-g187514-d2477531-Reviews-Ha...</td>\n",
       "      <td>d2477531</td>\n",
       "      <td>1</td>\n",
       "      <td>4.0</td>\n",
       "      <td>3266</td>\n",
       "      <td>1</td>\n",
       "      <td>0</td>\n",
       "      <td>0</td>\n",
       "      <td>0.007042</td>\n",
       "      <td>0.432788</td>\n",
       "      <td>1.167483</td>\n",
       "      <td>529</td>\n",
       "      <td>453</td>\n",
       "    </tr>\n",
       "    <tr>\n",
       "      <th>34545</th>\n",
       "      <td>id_3805</td>\n",
       "      <td>Madrid</td>\n",
       "      <td>['Spanish']</td>\n",
       "      <td>1.0</td>\n",
       "      <td>23.0</td>\n",
       "      <td>/Restaurant_Review-g187514-d2477531-Reviews-Ha...</td>\n",
       "      <td>d2477531</td>\n",
       "      <td>1</td>\n",
       "      <td>4.0</td>\n",
       "      <td>3266</td>\n",
       "      <td>1</td>\n",
       "      <td>0</td>\n",
       "      <td>0</td>\n",
       "      <td>0.007042</td>\n",
       "      <td>0.432107</td>\n",
       "      <td>1.165646</td>\n",
       "      <td>529</td>\n",
       "      <td>453</td>\n",
       "    </tr>\n",
       "  </tbody>\n",
       "</table>\n",
       "</div>"
      ],
      "text/plain": [
       "      Restaurant_id    City  \\\n",
       "20439        id_468  Madrid   \n",
       "35785        id_511  Madrid   \n",
       "18421       id_3811  Madrid   \n",
       "34545       id_3805  Madrid   \n",
       "\n",
       "                                           Cuisine_Style  Price_Range  \\\n",
       "20439  ['Mediterranean', 'Spanish', 'Vegetarian Frien...          2.0   \n",
       "35785  ['Mediterranean', 'Spanish', 'Vegetarian Frien...          2.0   \n",
       "18421                                        ['Spanish']          1.0   \n",
       "34545                                        ['Spanish']          1.0   \n",
       "\n",
       "       Number_of_Reviews                                             URL_TA  \\\n",
       "20439              355.0  /Restaurant_Review-g187514-d1315077-Reviews-El...   \n",
       "35785              355.0  /Restaurant_Review-g187514-d1315077-Reviews-El...   \n",
       "18421               23.0  /Restaurant_Review-g187514-d2477531-Reviews-Ha...   \n",
       "34545               23.0  /Restaurant_Review-g187514-d2477531-Reviews-Ha...   \n",
       "\n",
       "          ID_TA  sample  Rating  City_population  Restaurant_Chain  \\\n",
       "20439  d1315077       1     4.0             3266                 1   \n",
       "35785  d1315077       1     4.0             3266                 1   \n",
       "18421  d2477531       1     4.0             3266                 1   \n",
       "34545  d2477531       1     4.0             3266                 1   \n",
       "\n",
       "       Price_Range_nan  Number_of_Reviews_nan  Reviews_per_population  \\\n",
       "20439                0                      0                0.108696   \n",
       "35785                0                      0                0.108696   \n",
       "18421                0                      0                0.007042   \n",
       "34545                0                      0                0.007042   \n",
       "\n",
       "       Rank_Norm_minmax  Rank_per_population  Reviews_Days_delta  \\\n",
       "20439          0.053134             0.143601                  40   \n",
       "35785          0.058015             0.156767                  40   \n",
       "18421          0.432788             1.167483                 529   \n",
       "34545          0.432107             1.165646                 529   \n",
       "\n",
       "       Reviews_Days_from_max  \n",
       "20439                     98  \n",
       "35785                     98  \n",
       "18421                    453  \n",
       "34545                    453  "
      ]
     },
     "execution_count": 27,
     "metadata": {},
     "output_type": "execute_result"
    }
   ],
   "source": [
    "# вот маленький пример этих строк\n",
    "data[data['ID_TA'].isin(['d2477531','d1315077'])].sort_values(by=['ID_TA'])"
   ]
  },
  {
   "cell_type": "markdown",
   "metadata": {},
   "source": [
    "### 8 Rating (целевая переменная)"
   ]
  },
  {
   "cell_type": "code",
   "execution_count": 28,
   "metadata": {
    "execution": {
     "iopub.execute_input": "2021-07-14T04:32:31.755774Z",
     "iopub.status.busy": "2021-07-14T04:32:31.755562Z",
     "iopub.status.idle": "2021-07-14T04:32:32.002053Z",
     "shell.execute_reply": "2021-07-14T04:32:32.000927Z",
     "shell.execute_reply.started": "2021-07-14T04:32:31.755743Z"
    }
   },
   "outputs": [
    {
     "name": "stdout",
     "output_type": "stream",
     "text": [
      "Rating :  <class 'numpy.float64'>\n",
      "Уникальных значений  9  из 40000\n",
      "NaN  0 ( 0.0 % )\n"
     ]
    },
    {
     "data": {
      "text/plain": [
       "Rating\n",
       "1.0      201\n",
       "1.5      139\n",
       "2.0      466\n",
       "2.5      915\n",
       "3.0     2955\n",
       "3.5     6824\n",
       "4.0    13692\n",
       "4.5    10929\n",
       "5.0     3879\n",
       "Name: Rating, dtype: int64"
      ]
     },
     "metadata": {},
     "output_type": "display_data"
    },
    {
     "data": {
      "text/plain": [
       "<matplotlib.axes._subplots.AxesSubplot at 0x7f674515d2b0>"
      ]
     },
     "execution_count": 28,
     "metadata": {},
     "output_type": "execute_result"
    },
    {
     "data": {
      "image/png": "[encoded data removed]",
      "text/plain": [
       "<Figure size 432x288 with 1 Axes>"
      ]
     },
     "metadata": {
      "needs_background": "light"
     },
     "output_type": "display_data"
    }
   ],
   "source": [
    "# Посмотрим на значения в этом столбце по df_train \n",
    "#  (в части df_test целевой переменной Rating нет)\n",
    "field_values(df_train,'Rating')\n",
    "# и распределение целевой переменной\n",
    "df_train['Rating'].value_counts(ascending=True).plot(kind='barh')"
   ]
  },
  {
   "cell_type": "markdown",
   "metadata": {},
   "source": [
    "Стоит отметить, что это ***Дискретный*** числоловой столбец.\n",
    "\n",
    "Возможные значения только 1.0, 1.5, 2.0, 2.5, 3.0, 3.5, 4.0, 4.5, 5.0 <br>\n",
    "Выше 5 точно не может быть, а вот бывает ли 0.0 и 0.5 - нет данных. \n",
    "\n",
    "Позже надо учесть в нашей моделе"
   ]
  },
  {
   "cell_type": "markdown",
   "metadata": {},
   "source": [
    "### 9 Cuisine_Style"
   ]
  },
  {
   "cell_type": "code",
   "execution_count": 29,
   "metadata": {
    "execution": {
     "iopub.execute_input": "2021-07-14T04:32:32.003905Z",
     "iopub.status.busy": "2021-07-14T04:32:32.003545Z",
     "iopub.status.idle": "2021-07-14T04:32:32.406850Z",
     "shell.execute_reply": "2021-07-14T04:32:32.406092Z",
     "shell.execute_reply.started": "2021-07-14T04:32:32.003850Z"
    }
   },
   "outputs": [
    {
     "name": "stdout",
     "output_type": "stream",
     "text": [
      "Cuisine_Style :  <class 'str'>\n",
      "Уникальных значений  10731  из 50000\n",
      "NaN  11590 ( 23.18 % )\n"
     ]
    },
    {
     "data": {
      "text/plain": [
       "['Italian']               1332\n",
       "['French']                1019\n",
       "['Spanish']                860\n",
       "['French', 'European']     503\n",
       "['Cafe']                   500\n",
       "['Pizza']                  454\n",
       "Name: Cuisine_Style, dtype: int64"
      ]
     },
     "metadata": {},
     "output_type": "display_data"
    }
   ],
   "source": [
    "# Посмотрим на значения в этом столбце\n",
    "field_values(data, 'Cuisine_Style')\n",
    "\n",
    "# В колонке cuisine_style 11590 (23.18%) пропущенных значений\n",
    "# Создадим новый булевый столбец Cuisine_Style_nan, чтобы не потерять данные\n",
    "data['Cuisine_Style_nan'] = pd.isna(data['Cuisine_Style']).astype('uint8')\n",
    "\n",
    "# Заполним пропуски значением 'Unknown'\n",
    "data['Cuisine_Style'].fillna(\"['Unknown']\", inplace=True)\n",
    "# Конвертируем в список.\n",
    "data['Cuisine_list'] = data['Cuisine_Style'].str.replace(\n",
    "    r\"['\\[\\]]\", '', regex=True).str.split(', ')\n",
    "\n",
    "# Создадим признак 'Cuisine_count' - количество представленных кухонь в ресторане.\n",
    "data['Cuisine_count'] = data['Cuisine_list'].str.len()\n",
    "\n",
    "# Проверяем\n",
    "#field_values(data,'Cuisine_Style', table=False)\n",
    "#field_values(data,'Cuisine_count')"
   ]
  },
  {
   "cell_type": "code",
   "execution_count": 30,
   "metadata": {
    "execution": {
     "iopub.execute_input": "2021-07-14T04:32:32.408162Z",
     "iopub.status.busy": "2021-07-14T04:32:32.407953Z",
     "iopub.status.idle": "2021-07-14T04:32:32.599607Z",
     "shell.execute_reply": "2021-07-14T04:32:32.598776Z",
     "shell.execute_reply.started": "2021-07-14T04:32:32.408131Z"
    }
   },
   "outputs": [],
   "source": [
    "# Используем One-Hot Encoding для списка созданного из Cuisine_Style\n",
    "#clist = data['Cuisine_list'].explode().unique()\n",
    "# Во избежании большого кол-ва не особо значимых столбцов, возьму только несколько.\n",
    "# MAE при этом почти не изменяется.\n",
    "clist = ['Portuguese', 'Cafe', 'European', 'Spanish', 'Italian', 'Mediterranean' ]\n",
    "for cuisine in clist:\n",
    "    data['cu_' + cuisine.replace(' ','_')] = data['Cuisine_list'].apply(lambda x: 1 if cuisine in x else 0)"
   ]
  },
  {
   "cell_type": "code",
   "execution_count": 31,
   "metadata": {
    "execution": {
     "iopub.execute_input": "2021-07-14T04:32:32.600888Z",
     "iopub.status.busy": "2021-07-14T04:32:32.600691Z",
     "iopub.status.idle": "2021-07-14T04:32:32.624459Z",
     "shell.execute_reply": "2021-07-14T04:32:32.623517Z",
     "shell.execute_reply.started": "2021-07-14T04:32:32.600859Z"
    }
   },
   "outputs": [],
   "source": [
    "# Удалим ненужные столбцы\n",
    "data.drop(columns=['Cuisine_list', 'Cuisine_Style'], inplace=True)"
   ]
  },
  {
   "cell_type": "markdown",
   "metadata": {},
   "source": [
    "### 10 City"
   ]
  },
  {
   "cell_type": "code",
   "execution_count": 32,
   "metadata": {
    "execution": {
     "iopub.execute_input": "2021-07-14T04:32:32.629798Z",
     "iopub.status.busy": "2021-07-14T04:32:32.629542Z",
     "iopub.status.idle": "2021-07-14T04:32:32.713348Z",
     "shell.execute_reply": "2021-07-14T04:32:32.712406Z",
     "shell.execute_reply.started": "2021-07-14T04:32:32.629756Z"
    }
   },
   "outputs": [
    {
     "name": "stdout",
     "output_type": "stream",
     "text": [
      "City :  <class 'str'>\n",
      "Уникальных значений  31  из 50000\n",
      "NaN  0 ( 0.0 % )\n"
     ]
    },
    {
     "data": {
      "text/plain": [
       "London       7193\n",
       "Paris        6108\n",
       "Madrid       3813\n",
       "Barcelona    3395\n",
       "Berlin       2705\n",
       "Milan        2694\n",
       "Name: City, dtype: int64"
      ]
     },
     "metadata": {},
     "output_type": "display_data"
    },
    {
     "name": "stdout",
     "output_type": "stream",
     "text": [
      "Capital :  <class 'numpy.int64'>\n",
      "Уникальных значений  2  из 50000\n",
      "NaN  0 ( 0.0 % )\n"
     ]
    },
    {
     "data": {
      "text/plain": [
       "Capital\n",
       "0    12017\n",
       "1    37983\n",
       "Name: Capital, dtype: int64"
      ]
     },
     "metadata": {},
     "output_type": "display_data"
    }
   ],
   "source": [
    "# Посмотрим на значения в этом столбце\n",
    "field_values(data,'City')\n",
    "\n",
    "#city_list = data.city.unique()\n",
    "# Создадим признак capital: 1 - если наш город столица, 0 - если нет\n",
    "capital_list = ['Paris', 'Stockholm', 'London', 'Berlin', 'Bratislava',\n",
    "        'Vienna', 'Rome', 'Madrid', 'Dublin', 'Brussels', 'Warsaw',\n",
    "        'Budapest', 'Copenhagen', 'Amsterdam', 'Lisbon', 'Prague',\n",
    "        'Oslo', 'Helsinki', 'Edinburgh', 'Ljubljana', 'Athens',\n",
    "        'Luxembourg']\n",
    "\n",
    "data['Capital'] = data['City'].apply(lambda x: 1 if x in capital_list else 0)\n",
    "\n",
    "# Проверяем\n",
    "field_values(data, 'Capital')"
   ]
  },
  {
   "cell_type": "code",
   "execution_count": 33,
   "metadata": {
    "execution": {
     "iopub.execute_input": "2021-07-14T04:32:32.715085Z",
     "iopub.status.busy": "2021-07-14T04:32:32.714883Z",
     "iopub.status.idle": "2021-07-14T04:32:32.744927Z",
     "shell.execute_reply": "2021-07-14T04:32:32.744069Z",
     "shell.execute_reply.started": "2021-07-14T04:32:32.715049Z"
    }
   },
   "outputs": [],
   "source": [
    "# Используем One-Hot Encoding (get_dummies).\n",
    "# Параметр dummy_na нам здесь не нужен\n",
    "data = pd.get_dummies(data, columns=['City',])"
   ]
  },
  {
   "cell_type": "markdown",
   "metadata": {},
   "source": [
    "# EDA \n",
    "[Exploratory Data Analysis](https://ru.wikipedia.org/wiki/Разведочный_анализ_данных) - Анализ данных\n",
    "На этом этапе мы строим графики, ищем закономерности, аномалии, выбросы или связи между признаками.\n",
    "В общем цель этого этапа понять, что эти данные могут нам дать и как признаки могут быть взаимосвязаны между собой.\n",
    "Понимание изначальных признаков позволит сгенерировать новые, более сильные и, тем самым, сделать нашу модель лучше.\n",
    "![](https://miro.medium.com/max/2598/1*RXdMb7Uk6mGqWqPguHULaQ.png)"
   ]
  },
  {
   "cell_type": "markdown",
   "metadata": {},
   "source": [
    "### Посмотрим распределение признака"
   ]
  },
  {
   "cell_type": "code",
   "execution_count": 34,
   "metadata": {
    "execution": {
     "iopub.execute_input": "2021-07-14T04:32:32.746432Z",
     "iopub.status.busy": "2021-07-14T04:32:32.746199Z",
     "iopub.status.idle": "2021-07-14T04:32:33.209139Z",
     "shell.execute_reply": "2021-07-14T04:32:33.208117Z",
     "shell.execute_reply.started": "2021-07-14T04:32:32.746391Z"
    }
   },
   "outputs": [
    {
     "data": {
      "text/plain": [
       "<matplotlib.axes._subplots.AxesSubplot at 0x7f6744d3e898>"
      ]
     },
     "execution_count": 34,
     "metadata": {},
     "output_type": "execute_result"
    },
    {
     "data": {
      "image/png": "[encoded data removed]",
      "text/plain": [
       "<Figure size 720x504 with 1 Axes>"
      ]
     },
     "metadata": {
      "needs_background": "light"
     },
     "output_type": "display_data"
    }
   ],
   "source": [
    "plt.rcParams['figure.figsize'] = (10,7)\n",
    "df_train['Ranking'].hist(bins=100)"
   ]
  },
  {
   "cell_type": "markdown",
   "metadata": {},
   "source": [
    "У нас много ресторанов, которые не дотягивают и до 2500 места в своем городе, а что там по городам?"
   ]
  },
  {
   "cell_type": "code",
   "execution_count": 35,
   "metadata": {
    "execution": {
     "iopub.execute_input": "2021-07-14T04:32:33.212224Z",
     "iopub.status.busy": "2021-07-14T04:32:33.211885Z",
     "iopub.status.idle": "2021-07-14T04:32:33.638707Z",
     "shell.execute_reply": "2021-07-14T04:32:33.637846Z",
     "shell.execute_reply.started": "2021-07-14T04:32:33.212174Z"
    }
   },
   "outputs": [
    {
     "data": {
      "text/plain": [
       "<matplotlib.axes._subplots.AxesSubplot at 0x7f6731f296d8>"
      ]
     },
     "execution_count": 35,
     "metadata": {},
     "output_type": "execute_result"
    },
    {
     "data": {
      "image/png": "[encoded data removed]",
      "text/plain": [
       "<Figure size 720x504 with 1 Axes>"
      ]
     },
     "metadata": {
      "needs_background": "light"
     },
     "output_type": "display_data"
    }
   ],
   "source": [
    "df_train['City'].value_counts(ascending=True).plot(kind='barh')"
   ]
  },
  {
   "cell_type": "markdown",
   "metadata": {},
   "source": [
    "А кто-то говорил, что французы любят поесть=) Посмотрим, как изменится распределение в большом городе:"
   ]
  },
  {
   "cell_type": "code",
   "execution_count": 36,
   "metadata": {
    "execution": {
     "iopub.execute_input": "2021-07-14T04:32:33.640640Z",
     "iopub.status.busy": "2021-07-14T04:32:33.640111Z",
     "iopub.status.idle": "2021-07-14T04:32:34.115499Z",
     "shell.execute_reply": "2021-07-14T04:32:34.114220Z",
     "shell.execute_reply.started": "2021-07-14T04:32:33.640585Z"
    }
   },
   "outputs": [
    {
     "data": {
      "text/plain": [
       "<matplotlib.axes._subplots.AxesSubplot at 0x7f6731e81438>"
      ]
     },
     "execution_count": 36,
     "metadata": {},
     "output_type": "execute_result"
    },
    {
     "data": {
      "image/png": "[encoded data removed]",
      "text/plain": [
       "<Figure size 720x504 with 1 Axes>"
      ]
     },
     "metadata": {
      "needs_background": "light"
     },
     "output_type": "display_data"
    }
   ],
   "source": [
    "df_train['Ranking'][df_train['City'] =='London'].hist(bins=100)"
   ]
  },
  {
   "cell_type": "code",
   "execution_count": 37,
   "metadata": {
    "execution": {
     "iopub.execute_input": "2021-07-14T04:32:34.117668Z",
     "iopub.status.busy": "2021-07-14T04:32:34.117148Z",
     "iopub.status.idle": "2021-07-14T04:32:36.621906Z",
     "shell.execute_reply": "2021-07-14T04:32:36.620486Z",
     "shell.execute_reply.started": "2021-07-14T04:32:34.117457Z"
    }
   },
   "outputs": [
    {
     "data": {
      "image/png": "[encoded data removed]",
      "text/plain": [
       "<Figure size 720x504 with 1 Axes>"
      ]
     },
     "metadata": {
      "needs_background": "light"
     },
     "output_type": "display_data"
    }
   ],
   "source": [
    "# посмотрим на топ 10 городов\n",
    "for x in (df_train['City'].value_counts())[0:10].index:\n",
    "    df_train['Ranking'][df_train['City'] == x].hist(bins=100)\n",
    "plt.show()"
   ]
  },
  {
   "cell_type": "markdown",
   "metadata": {},
   "source": [
    "Получается, что Ranking имеет нормальное распределение, просто в больших городах больше ресторанов, из-за мы этого имеем смещение."
   ]
  },
  {
   "cell_type": "markdown",
   "metadata": {},
   "source": [
    "### Посмотрим распределение целевой переменной относительно признака"
   ]
  },
  {
   "cell_type": "code",
   "execution_count": 38,
   "metadata": {
    "execution": {
     "iopub.execute_input": "2021-07-14T04:32:36.624258Z",
     "iopub.status.busy": "2021-07-14T04:32:36.623675Z",
     "iopub.status.idle": "2021-07-14T04:32:37.095217Z",
     "shell.execute_reply": "2021-07-14T04:32:37.094094Z",
     "shell.execute_reply.started": "2021-07-14T04:32:36.623980Z"
    }
   },
   "outputs": [
    {
     "data": {
      "text/plain": [
       "<matplotlib.axes._subplots.AxesSubplot at 0x7f6731c70278>"
      ]
     },
     "execution_count": 38,
     "metadata": {},
     "output_type": "execute_result"
    },
    {
     "data": {
      "image/png": "[encoded data removed]",
      "text/plain": [
       "<Figure size 720x504 with 1 Axes>"
      ]
     },
     "metadata": {
      "needs_background": "light"
     },
     "output_type": "display_data"
    }
   ],
   "source": [
    "df_train['Ranking'][df_train['Rating'] == 5].hist(bins=100)"
   ]
  },
  {
   "cell_type": "code",
   "execution_count": 39,
   "metadata": {
    "execution": {
     "iopub.execute_input": "2021-07-14T04:32:37.097619Z",
     "iopub.status.busy": "2021-07-14T04:32:37.096952Z",
     "iopub.status.idle": "2021-07-14T04:32:37.601626Z",
     "shell.execute_reply": "2021-07-14T04:32:37.600740Z",
     "shell.execute_reply.started": "2021-07-14T04:32:37.097538Z"
    }
   },
   "outputs": [
    {
     "data": {
      "text/plain": [
       "<matplotlib.axes._subplots.AxesSubplot at 0x7f6730f8ecc0>"
      ]
     },
     "execution_count": 39,
     "metadata": {},
     "output_type": "execute_result"
    },
    {
     "data": {
      "image/png": "[encoded data removed]",
      "text/plain": [
       "<Figure size 720x504 with 1 Axes>"
      ]
     },
     "metadata": {
      "needs_background": "light"
     },
     "output_type": "display_data"
    }
   ],
   "source": [
    "df_train['Ranking'][df_train['Rating'] < 4].hist(bins=100)"
   ]
  },
  {
   "cell_type": "markdown",
   "metadata": {},
   "source": [
    "### И один из моих любимых - [корреляция признаков](https://ru.wikipedia.org/wiki/Корреляция)\n",
    "На этом графике уже сейчас вы сможете заметить, как признаки связаны между собой и с целевой переменной."
   ]
  },
  {
   "cell_type": "code",
   "execution_count": 40,
   "metadata": {
    "execution": {
     "iopub.execute_input": "2021-07-14T04:32:37.603872Z",
     "iopub.status.busy": "2021-07-14T04:32:37.603270Z",
     "iopub.status.idle": "2021-07-14T04:32:39.938107Z",
     "shell.execute_reply": "2021-07-14T04:32:39.937347Z",
     "shell.execute_reply.started": "2021-07-14T04:32:37.603813Z"
    }
   },
   "outputs": [
    {
     "data": {
      "text/plain": [
       "<matplotlib.axes._subplots.AxesSubplot at 0x7f67283592e8>"
      ]
     },
     "execution_count": 40,
     "metadata": {},
     "output_type": "execute_result"
    },
    {
     "data": {
      "image/png": "[encoded data removed]",
      "text/plain": [
       "<Figure size 1080x720 with 2 Axes>"
      ]
     },
     "metadata": {
      "needs_background": "light"
     },
     "output_type": "display_data"
    }
   ],
   "source": [
    "plt.rcParams['figure.figsize'] = (15,10)\n",
    "sns.heatmap(data.drop(['sample'], axis=1).corr(),)"
   ]
  },
  {
   "cell_type": "code",
   "execution_count": 41,
   "metadata": {
    "execution": {
     "iopub.execute_input": "2021-07-14T04:32:39.939440Z",
     "iopub.status.busy": "2021-07-14T04:32:39.939182Z",
     "iopub.status.idle": "2021-07-14T04:32:39.942545Z",
     "shell.execute_reply": "2021-07-14T04:32:39.941915Z",
     "shell.execute_reply.started": "2021-07-14T04:32:39.939395Z"
    }
   },
   "outputs": [],
   "source": [
    "#data[['Reviews_Dates_count','Reviews_Days_from_max']].corr()\n",
    "#'Reviews_Dates_count','Reviews_Days_from_max'\n",
    "#data[['Cuisine_count','Price_Range']].corr()"
   ]
  },
  {
   "cell_type": "markdown",
   "metadata": {},
   "source": [
    "# Data Preprocessing\n"
   ]
  },
  {
   "cell_type": "code",
   "execution_count": 42,
   "metadata": {
    "execution": {
     "iopub.execute_input": "2021-07-14T04:32:39.945741Z",
     "iopub.status.busy": "2021-07-14T04:32:39.945071Z",
     "iopub.status.idle": "2021-07-14T04:32:39.989069Z",
     "shell.execute_reply": "2021-07-14T04:32:39.988124Z",
     "shell.execute_reply.started": "2021-07-14T04:32:39.945403Z"
    }
   },
   "outputs": [
    {
     "data": {
      "text/html": [
       "<div>\n",
       "<style scoped>\n",
       "    .dataframe tbody tr th:only-of-type {\n",
       "        vertical-align: middle;\n",
       "    }\n",
       "\n",
       "    .dataframe tbody tr th {\n",
       "        vertical-align: top;\n",
       "    }\n",
       "\n",
       "    .dataframe thead th {\n",
       "        text-align: right;\n",
       "    }\n",
       "</style>\n",
       "<table border=\"1\" class=\"dataframe\">\n",
       "  <thead>\n",
       "    <tr style=\"text-align: right;\">\n",
       "      <th></th>\n",
       "      <th>Price_Range</th>\n",
       "      <th>Number_of_Reviews</th>\n",
       "      <th>sample</th>\n",
       "      <th>Rating</th>\n",
       "      <th>City_population</th>\n",
       "      <th>Restaurant_Chain</th>\n",
       "      <th>Price_Range_nan</th>\n",
       "      <th>Number_of_Reviews_nan</th>\n",
       "      <th>Reviews_per_population</th>\n",
       "      <th>Rank_Norm_minmax</th>\n",
       "      <th>...</th>\n",
       "      <th>City_Munich</th>\n",
       "      <th>City_Oporto</th>\n",
       "      <th>City_Oslo</th>\n",
       "      <th>City_Paris</th>\n",
       "      <th>City_Prague</th>\n",
       "      <th>City_Rome</th>\n",
       "      <th>City_Stockholm</th>\n",
       "      <th>City_Vienna</th>\n",
       "      <th>City_Warsaw</th>\n",
       "      <th>City_Zurich</th>\n",
       "    </tr>\n",
       "  </thead>\n",
       "  <tbody>\n",
       "    <tr>\n",
       "      <th>32787</th>\n",
       "      <td>2.0</td>\n",
       "      <td>19.0</td>\n",
       "      <td>1</td>\n",
       "      <td>5.0</td>\n",
       "      <td>1324</td>\n",
       "      <td>1</td>\n",
       "      <td>1</td>\n",
       "      <td>1</td>\n",
       "      <td>0.014350</td>\n",
       "      <td>0.474916</td>\n",
       "      <td>...</td>\n",
       "      <td>0</td>\n",
       "      <td>0</td>\n",
       "      <td>0</td>\n",
       "      <td>0</td>\n",
       "      <td>1</td>\n",
       "      <td>0</td>\n",
       "      <td>0</td>\n",
       "      <td>0</td>\n",
       "      <td>0</td>\n",
       "      <td>0</td>\n",
       "    </tr>\n",
       "    <tr>\n",
       "      <th>29071</th>\n",
       "      <td>2.0</td>\n",
       "      <td>16.0</td>\n",
       "      <td>1</td>\n",
       "      <td>4.0</td>\n",
       "      <td>1352</td>\n",
       "      <td>1</td>\n",
       "      <td>1</td>\n",
       "      <td>0</td>\n",
       "      <td>0.011834</td>\n",
       "      <td>0.638030</td>\n",
       "      <td>...</td>\n",
       "      <td>0</td>\n",
       "      <td>0</td>\n",
       "      <td>0</td>\n",
       "      <td>0</td>\n",
       "      <td>0</td>\n",
       "      <td>0</td>\n",
       "      <td>0</td>\n",
       "      <td>0</td>\n",
       "      <td>0</td>\n",
       "      <td>0</td>\n",
       "    </tr>\n",
       "    <tr>\n",
       "      <th>36963</th>\n",
       "      <td>1.0</td>\n",
       "      <td>56.0</td>\n",
       "      <td>1</td>\n",
       "      <td>3.5</td>\n",
       "      <td>1324</td>\n",
       "      <td>1</td>\n",
       "      <td>0</td>\n",
       "      <td>0</td>\n",
       "      <td>0.042296</td>\n",
       "      <td>0.658863</td>\n",
       "      <td>...</td>\n",
       "      <td>0</td>\n",
       "      <td>0</td>\n",
       "      <td>0</td>\n",
       "      <td>0</td>\n",
       "      <td>1</td>\n",
       "      <td>0</td>\n",
       "      <td>0</td>\n",
       "      <td>0</td>\n",
       "      <td>0</td>\n",
       "      <td>0</td>\n",
       "    </tr>\n",
       "    <tr>\n",
       "      <th>20121</th>\n",
       "      <td>2.0</td>\n",
       "      <td>143.0</td>\n",
       "      <td>1</td>\n",
       "      <td>4.0</td>\n",
       "      <td>3266</td>\n",
       "      <td>1</td>\n",
       "      <td>0</td>\n",
       "      <td>0</td>\n",
       "      <td>0.043784</td>\n",
       "      <td>0.372389</td>\n",
       "      <td>...</td>\n",
       "      <td>0</td>\n",
       "      <td>0</td>\n",
       "      <td>0</td>\n",
       "      <td>0</td>\n",
       "      <td>0</td>\n",
       "      <td>0</td>\n",
       "      <td>0</td>\n",
       "      <td>0</td>\n",
       "      <td>0</td>\n",
       "      <td>0</td>\n",
       "    </tr>\n",
       "    <tr>\n",
       "      <th>21557</th>\n",
       "      <td>2.0</td>\n",
       "      <td>51.0</td>\n",
       "      <td>1</td>\n",
       "      <td>2.5</td>\n",
       "      <td>516</td>\n",
       "      <td>1</td>\n",
       "      <td>1</td>\n",
       "      <td>0</td>\n",
       "      <td>0.098837</td>\n",
       "      <td>0.944090</td>\n",
       "      <td>...</td>\n",
       "      <td>0</td>\n",
       "      <td>0</td>\n",
       "      <td>0</td>\n",
       "      <td>0</td>\n",
       "      <td>0</td>\n",
       "      <td>0</td>\n",
       "      <td>0</td>\n",
       "      <td>0</td>\n",
       "      <td>0</td>\n",
       "      <td>0</td>\n",
       "    </tr>\n",
       "    <tr>\n",
       "      <th>43011</th>\n",
       "      <td>1.0</td>\n",
       "      <td>10.0</td>\n",
       "      <td>1</td>\n",
       "      <td>2.0</td>\n",
       "      <td>488</td>\n",
       "      <td>1</td>\n",
       "      <td>0</td>\n",
       "      <td>0</td>\n",
       "      <td>0.020492</td>\n",
       "      <td>0.939943</td>\n",
       "      <td>...</td>\n",
       "      <td>0</td>\n",
       "      <td>0</td>\n",
       "      <td>0</td>\n",
       "      <td>0</td>\n",
       "      <td>0</td>\n",
       "      <td>0</td>\n",
       "      <td>0</td>\n",
       "      <td>0</td>\n",
       "      <td>0</td>\n",
       "      <td>0</td>\n",
       "    </tr>\n",
       "    <tr>\n",
       "      <th>11018</th>\n",
       "      <td>3.0</td>\n",
       "      <td>52.0</td>\n",
       "      <td>1</td>\n",
       "      <td>5.0</td>\n",
       "      <td>3266</td>\n",
       "      <td>1</td>\n",
       "      <td>0</td>\n",
       "      <td>0</td>\n",
       "      <td>0.015922</td>\n",
       "      <td>0.015554</td>\n",
       "      <td>...</td>\n",
       "      <td>0</td>\n",
       "      <td>0</td>\n",
       "      <td>0</td>\n",
       "      <td>0</td>\n",
       "      <td>0</td>\n",
       "      <td>0</td>\n",
       "      <td>0</td>\n",
       "      <td>0</td>\n",
       "      <td>0</td>\n",
       "      <td>0</td>\n",
       "    </tr>\n",
       "    <tr>\n",
       "      <th>5143</th>\n",
       "      <td>2.0</td>\n",
       "      <td>3.0</td>\n",
       "      <td>0</td>\n",
       "      <td>0.0</td>\n",
       "      <td>10979</td>\n",
       "      <td>1</td>\n",
       "      <td>1</td>\n",
       "      <td>0</td>\n",
       "      <td>0.000273</td>\n",
       "      <td>0.581038</td>\n",
       "      <td>...</td>\n",
       "      <td>0</td>\n",
       "      <td>0</td>\n",
       "      <td>0</td>\n",
       "      <td>0</td>\n",
       "      <td>0</td>\n",
       "      <td>0</td>\n",
       "      <td>0</td>\n",
       "      <td>0</td>\n",
       "      <td>0</td>\n",
       "      <td>0</td>\n",
       "    </tr>\n",
       "    <tr>\n",
       "      <th>11919</th>\n",
       "      <td>2.0</td>\n",
       "      <td>6.0</td>\n",
       "      <td>1</td>\n",
       "      <td>3.5</td>\n",
       "      <td>973</td>\n",
       "      <td>1</td>\n",
       "      <td>1</td>\n",
       "      <td>0</td>\n",
       "      <td>0.006166</td>\n",
       "      <td>0.771417</td>\n",
       "      <td>...</td>\n",
       "      <td>0</td>\n",
       "      <td>0</td>\n",
       "      <td>0</td>\n",
       "      <td>0</td>\n",
       "      <td>0</td>\n",
       "      <td>0</td>\n",
       "      <td>1</td>\n",
       "      <td>0</td>\n",
       "      <td>0</td>\n",
       "      <td>0</td>\n",
       "    </tr>\n",
       "    <tr>\n",
       "      <th>16726</th>\n",
       "      <td>1.0</td>\n",
       "      <td>59.0</td>\n",
       "      <td>1</td>\n",
       "      <td>5.0</td>\n",
       "      <td>10979</td>\n",
       "      <td>1</td>\n",
       "      <td>0</td>\n",
       "      <td>0</td>\n",
       "      <td>0.005374</td>\n",
       "      <td>0.126194</td>\n",
       "      <td>...</td>\n",
       "      <td>0</td>\n",
       "      <td>0</td>\n",
       "      <td>0</td>\n",
       "      <td>0</td>\n",
       "      <td>0</td>\n",
       "      <td>0</td>\n",
       "      <td>0</td>\n",
       "      <td>0</td>\n",
       "      <td>0</td>\n",
       "      <td>0</td>\n",
       "    </tr>\n",
       "  </tbody>\n",
       "</table>\n",
       "<p>10 rows × 53 columns</p>\n",
       "</div>"
      ],
      "text/plain": [
       "       Price_Range  Number_of_Reviews  sample  Rating  City_population  \\\n",
       "32787          2.0               19.0       1     5.0             1324   \n",
       "29071          2.0               16.0       1     4.0             1352   \n",
       "36963          1.0               56.0       1     3.5             1324   \n",
       "20121          2.0              143.0       1     4.0             3266   \n",
       "21557          2.0               51.0       1     2.5              516   \n",
       "43011          1.0               10.0       1     2.0              488   \n",
       "11018          3.0               52.0       1     5.0             3266   \n",
       "5143           2.0                3.0       0     0.0            10979   \n",
       "11919          2.0                6.0       1     3.5              973   \n",
       "16726          1.0               59.0       1     5.0            10979   \n",
       "\n",
       "       Restaurant_Chain  Price_Range_nan  Number_of_Reviews_nan  \\\n",
       "32787                 1                1                      1   \n",
       "29071                 1                1                      0   \n",
       "36963                 1                0                      0   \n",
       "20121                 1                0                      0   \n",
       "21557                 1                1                      0   \n",
       "43011                 1                0                      0   \n",
       "11018                 1                0                      0   \n",
       "5143                  1                1                      0   \n",
       "11919                 1                1                      0   \n",
       "16726                 1                0                      0   \n",
       "\n",
       "       Reviews_per_population  Rank_Norm_minmax  ...  City_Munich  \\\n",
       "32787                0.014350          0.474916  ...            0   \n",
       "29071                0.011834          0.638030  ...            0   \n",
       "36963                0.042296          0.658863  ...            0   \n",
       "20121                0.043784          0.372389  ...            0   \n",
       "21557                0.098837          0.944090  ...            0   \n",
       "43011                0.020492          0.939943  ...            0   \n",
       "11018                0.015922          0.015554  ...            0   \n",
       "5143                 0.000273          0.581038  ...            0   \n",
       "11919                0.006166          0.771417  ...            0   \n",
       "16726                0.005374          0.126194  ...            0   \n",
       "\n",
       "       City_Oporto  City_Oslo  City_Paris  City_Prague  City_Rome  \\\n",
       "32787            0          0           0            1          0   \n",
       "29071            0          0           0            0          0   \n",
       "36963            0          0           0            1          0   \n",
       "20121            0          0           0            0          0   \n",
       "21557            0          0           0            0          0   \n",
       "43011            0          0           0            0          0   \n",
       "11018            0          0           0            0          0   \n",
       "5143             0          0           0            0          0   \n",
       "11919            0          0           0            0          0   \n",
       "16726            0          0           0            0          0   \n",
       "\n",
       "       City_Stockholm  City_Vienna  City_Warsaw  City_Zurich  \n",
       "32787               0            0            0            0  \n",
       "29071               0            0            0            0  \n",
       "36963               0            0            0            0  \n",
       "20121               0            0            0            0  \n",
       "21557               0            0            0            0  \n",
       "43011               0            0            0            0  \n",
       "11018               0            0            0            0  \n",
       "5143                0            0            0            0  \n",
       "11919               1            0            0            0  \n",
       "16726               0            0            0            0  \n",
       "\n",
       "[10 rows x 53 columns]"
      ]
     },
     "execution_count": 42,
     "metadata": {},
     "output_type": "execute_result"
    }
   ],
   "source": [
    "# Удалим не числовые столбцы\n",
    "df_preproc = del_object_type(data)\n",
    "df_preproc.sample(10)"
   ]
  },
  {
   "cell_type": "code",
   "execution_count": 43,
   "metadata": {
    "execution": {
     "iopub.execute_input": "2021-07-14T04:32:39.991146Z",
     "iopub.status.busy": "2021-07-14T04:32:39.990619Z",
     "iopub.status.idle": "2021-07-14T04:32:40.012163Z",
     "shell.execute_reply": "2021-07-14T04:32:40.011243Z",
     "shell.execute_reply.started": "2021-07-14T04:32:39.990922Z"
    }
   },
   "outputs": [
    {
     "name": "stdout",
     "output_type": "stream",
     "text": [
      "<class 'pandas.core.frame.DataFrame'>\n",
      "Int64Index: 50000 entries, 0 to 49999\n",
      "Data columns (total 53 columns):\n",
      "Price_Range               50000 non-null float64\n",
      "Number_of_Reviews         50000 non-null float64\n",
      "sample                    50000 non-null int64\n",
      "Rating                    50000 non-null float64\n",
      "City_population           50000 non-null int64\n",
      "Restaurant_Chain          50000 non-null int64\n",
      "Price_Range_nan           50000 non-null uint8\n",
      "Number_of_Reviews_nan     50000 non-null uint8\n",
      "Reviews_per_population    50000 non-null float64\n",
      "Rank_Norm_minmax          50000 non-null float64\n",
      "Rank_per_population       50000 non-null float64\n",
      "Reviews_Days_delta        50000 non-null int64\n",
      "Reviews_Days_from_max     50000 non-null int64\n",
      "Cuisine_Style_nan         50000 non-null uint8\n",
      "Cuisine_count             50000 non-null int64\n",
      "cu_Portuguese             50000 non-null int64\n",
      "cu_Cafe                   50000 non-null int64\n",
      "cu_European               50000 non-null int64\n",
      "cu_Spanish                50000 non-null int64\n",
      "cu_Italian                50000 non-null int64\n",
      "cu_Mediterranean          50000 non-null int64\n",
      "Capital                   50000 non-null int64\n",
      "City_Amsterdam            50000 non-null uint8\n",
      "City_Athens               50000 non-null uint8\n",
      "City_Barcelona            50000 non-null uint8\n",
      "City_Berlin               50000 non-null uint8\n",
      "City_Bratislava           50000 non-null uint8\n",
      "City_Brussels             50000 non-null uint8\n",
      "City_Budapest             50000 non-null uint8\n",
      "City_Copenhagen           50000 non-null uint8\n",
      "City_Dublin               50000 non-null uint8\n",
      "City_Edinburgh            50000 non-null uint8\n",
      "City_Geneva               50000 non-null uint8\n",
      "City_Hamburg              50000 non-null uint8\n",
      "City_Helsinki             50000 non-null uint8\n",
      "City_Krakow               50000 non-null uint8\n",
      "City_Lisbon               50000 non-null uint8\n",
      "City_Ljubljana            50000 non-null uint8\n",
      "City_London               50000 non-null uint8\n",
      "City_Luxembourg           50000 non-null uint8\n",
      "City_Lyon                 50000 non-null uint8\n",
      "City_Madrid               50000 non-null uint8\n",
      "City_Milan                50000 non-null uint8\n",
      "City_Munich               50000 non-null uint8\n",
      "City_Oporto               50000 non-null uint8\n",
      "City_Oslo                 50000 non-null uint8\n",
      "City_Paris                50000 non-null uint8\n",
      "City_Prague               50000 non-null uint8\n",
      "City_Rome                 50000 non-null uint8\n",
      "City_Stockholm            50000 non-null uint8\n",
      "City_Vienna               50000 non-null uint8\n",
      "City_Warsaw               50000 non-null uint8\n",
      "City_Zurich               50000 non-null uint8\n",
      "dtypes: float64(6), int64(13), uint8(34)\n",
      "memory usage: 9.3 MB\n"
     ]
    }
   ],
   "source": [
    "# Убедимся, что остались только числовые колонки\n",
    "df_preproc.info()"
   ]
  },
  {
   "cell_type": "code",
   "execution_count": 44,
   "metadata": {
    "execution": {
     "iopub.execute_input": "2021-07-14T04:32:40.015684Z",
     "iopub.status.busy": "2021-07-14T04:32:40.014338Z",
     "iopub.status.idle": "2021-07-14T04:32:40.047936Z",
     "shell.execute_reply": "2021-07-14T04:32:40.047188Z",
     "shell.execute_reply.started": "2021-07-14T04:32:40.014540Z"
    }
   },
   "outputs": [],
   "source": [
    "# Теперь выделим тестовую часть\n",
    "train_data = df_preproc.query('sample == 1').drop(['sample'], axis=1)\n",
    "test_data = df_preproc.query('sample == 0').drop(['sample'], axis=1)\n",
    "\n",
    "y = train_data.Rating.values            # наш таргет\n",
    "X = train_data.drop(['Rating'], axis=1)"
   ]
  },
  {
   "cell_type": "markdown",
   "metadata": {},
   "source": [
    "**Перед тем как отправлять наши данные на обучение, разделим данные на еще один тест и трейн, для валидации. \n",
    "Это поможет нам проверить, как хорошо наша модель работает, до отправки submissiona на kaggle.**"
   ]
  },
  {
   "cell_type": "code",
   "execution_count": 45,
   "metadata": {
    "execution": {
     "iopub.execute_input": "2021-07-14T04:32:40.049451Z",
     "iopub.status.busy": "2021-07-14T04:32:40.049134Z",
     "iopub.status.idle": "2021-07-14T04:32:40.068920Z",
     "shell.execute_reply": "2021-07-14T04:32:40.068000Z",
     "shell.execute_reply.started": "2021-07-14T04:32:40.049395Z"
    }
   },
   "outputs": [],
   "source": [
    "# Воспользуемся специальной функцие train_test_split для разбивки тестовых данных\n",
    "# выделим 20% данных на валидацию (параметр test_size)\n",
    "X_train, X_test, y_train, y_test = train_test_split(X, y, test_size=0.2, random_state=RANDOM_SEED)"
   ]
  },
  {
   "cell_type": "code",
   "execution_count": 46,
   "metadata": {
    "execution": {
     "iopub.execute_input": "2021-07-14T04:32:40.070558Z",
     "iopub.status.busy": "2021-07-14T04:32:40.070304Z",
     "iopub.status.idle": "2021-07-14T04:32:40.077109Z",
     "shell.execute_reply": "2021-07-14T04:32:40.075894Z",
     "shell.execute_reply.started": "2021-07-14T04:32:40.070513Z"
    }
   },
   "outputs": [
    {
     "data": {
      "text/plain": [
       "((10000, 52), (40000, 52), (40000, 51), (32000, 51), (8000, 51))"
      ]
     },
     "execution_count": 46,
     "metadata": {},
     "output_type": "execute_result"
    }
   ],
   "source": [
    "# проверяем\n",
    "test_data.shape, train_data.shape, X.shape, X_train.shape, X_test.shape"
   ]
  },
  {
   "cell_type": "markdown",
   "metadata": {},
   "source": [
    "# Model \n",
    "Сам ML"
   ]
  },
  {
   "cell_type": "code",
   "execution_count": 47,
   "metadata": {
    "execution": {
     "iopub.execute_input": "2021-07-14T04:32:40.078554Z",
     "iopub.status.busy": "2021-07-14T04:32:40.078264Z",
     "iopub.status.idle": "2021-07-14T04:32:40.231122Z",
     "shell.execute_reply": "2021-07-14T04:32:40.230421Z",
     "shell.execute_reply.started": "2021-07-14T04:32:40.078515Z"
    }
   },
   "outputs": [],
   "source": [
    "# Импортируем необходимые библиотеки:\n",
    "from sklearn.ensemble import RandomForestRegressor # инструмент для создания и обучения модели\n",
    "from sklearn import metrics # инструменты для оценки точности модели"
   ]
  },
  {
   "cell_type": "code",
   "execution_count": 48,
   "metadata": {
    "execution": {
     "iopub.execute_input": "2021-07-14T04:32:40.233213Z",
     "iopub.status.busy": "2021-07-14T04:32:40.232863Z",
     "iopub.status.idle": "2021-07-14T04:32:40.238585Z",
     "shell.execute_reply": "2021-07-14T04:32:40.237602Z",
     "shell.execute_reply.started": "2021-07-14T04:32:40.233140Z"
    }
   },
   "outputs": [],
   "source": [
    "# Создаём модель (НАСТРОЙКИ НЕ ТРОГАЕМ)\n",
    "model = RandomForestRegressor(n_estimators=100, verbose=1, n_jobs=-1, random_state=RANDOM_SEED)"
   ]
  },
  {
   "cell_type": "code",
   "execution_count": 49,
   "metadata": {
    "execution": {
     "iopub.execute_input": "2021-07-14T04:32:40.240845Z",
     "iopub.status.busy": "2021-07-14T04:32:40.240477Z",
     "iopub.status.idle": "2021-07-14T04:32:50.844743Z",
     "shell.execute_reply": "2021-07-14T04:32:50.843743Z",
     "shell.execute_reply.started": "2021-07-14T04:32:40.240765Z"
    }
   },
   "outputs": [
    {
     "name": "stderr",
     "output_type": "stream",
     "text": [
      "[Parallel(n_jobs=-1)]: Using backend ThreadingBackend with 4 concurrent workers.\n",
      "[Parallel(n_jobs=-1)]: Done  42 tasks      | elapsed:    5.1s\n",
      "[Parallel(n_jobs=-1)]: Done 100 out of 100 | elapsed:   11.6s finished\n",
      "[Parallel(n_jobs=4)]: Using backend ThreadingBackend with 4 concurrent workers.\n",
      "[Parallel(n_jobs=4)]: Done  42 tasks      | elapsed:    0.0s\n",
      "[Parallel(n_jobs=4)]: Done 100 out of 100 | elapsed:    0.1s finished\n"
     ]
    }
   ],
   "source": [
    "# Обучаем модель на тестовом наборе данных\n",
    "model.fit(X_train, y_train)\n",
    "\n",
    "# Используем обученную модель для предсказания рейтинга ресторанов в тестовой выборке.\n",
    "# Предсказанные значения записываем в переменную y_pred\n",
    "y_pred = model.predict(X_test)"
   ]
  },
  {
   "cell_type": "code",
   "execution_count": 50,
   "metadata": {
    "execution": {
     "iopub.execute_input": "2021-07-14T04:32:50.846609Z",
     "iopub.status.busy": "2021-07-14T04:32:50.846266Z",
     "iopub.status.idle": "2021-07-14T04:32:50.942906Z",
     "shell.execute_reply": "2021-07-14T04:32:50.941907Z",
     "shell.execute_reply.started": "2021-07-14T04:32:50.846533Z"
    }
   },
   "outputs": [],
   "source": [
    "# Cоздание функции для векторов np\n",
    "vector_round = np.vectorize(lambda x: min(np.round(x * 2) / 2, 5))\n",
    "\n",
    "# Так как признак рейтинга имеет шаг 0.5 и он точно не может быть больше 5, округляем предсказание.\n",
    "y_pred = vector_round(y_pred)"
   ]
  },
  {
   "cell_type": "code",
   "execution_count": 51,
   "metadata": {
    "execution": {
     "iopub.execute_input": "2021-07-14T04:32:50.944975Z",
     "iopub.status.busy": "2021-07-14T04:32:50.944559Z",
     "iopub.status.idle": "2021-07-14T04:32:50.951311Z",
     "shell.execute_reply": "2021-07-14T04:32:50.950320Z",
     "shell.execute_reply.started": "2021-07-14T04:32:50.944906Z"
    }
   },
   "outputs": [
    {
     "name": "stdout",
     "output_type": "stream",
     "text": [
      "MAE: 0.1674375\n"
     ]
    }
   ],
   "source": [
    "# Сравниваем предсказанные значения (y_pred) с реальными (y_test), и смотрим насколько они в среднем отличаются\n",
    "# Метрика называется Mean Absolute Error (MAE) и показывает среднее отклонение предсказанных значений от фактических.\n",
    "print('MAE:', metrics.mean_absolute_error(y_test, y_pred))"
   ]
  },
  {
   "cell_type": "code",
   "execution_count": 52,
   "metadata": {
    "execution": {
     "iopub.execute_input": "2021-07-14T04:32:50.953003Z",
     "iopub.status.busy": "2021-07-14T04:32:50.952592Z",
     "iopub.status.idle": "2021-07-14T04:32:51.406765Z",
     "shell.execute_reply": "2021-07-14T04:32:51.405875Z",
     "shell.execute_reply.started": "2021-07-14T04:32:50.952845Z"
    }
   },
   "outputs": [
    {
     "data": {
      "text/plain": [
       "<matplotlib.axes._subplots.AxesSubplot at 0x7f6744dcf0b8>"
      ]
     },
     "execution_count": 52,
     "metadata": {},
     "output_type": "execute_result"
    },
    {
     "data": {
      "image/png": "[encoded data removed]",
      "text/plain": [
       "<Figure size 720x720 with 1 Axes>"
      ]
     },
     "metadata": {
      "needs_background": "light"
     },
     "output_type": "display_data"
    }
   ],
   "source": [
    "# в RandomForestRegressor есть возможность вывести самые важные признаки для модели\n",
    "plt.rcParams['figure.figsize'] = (10,10)\n",
    "feat_importances = pd.Series(model.feature_importances_, index=X.columns)\n",
    "feat_importances.nlargest(15).plot(kind='barh')"
   ]
  },
  {
   "cell_type": "code",
   "execution_count": 53,
   "metadata": {
    "execution": {
     "iopub.execute_input": "2021-07-14T04:32:51.408781Z",
     "iopub.status.busy": "2021-07-14T04:32:51.408238Z",
     "iopub.status.idle": "2021-07-14T04:32:52.403923Z",
     "shell.execute_reply": "2021-07-14T04:32:52.402640Z",
     "shell.execute_reply.started": "2021-07-14T04:32:51.408726Z"
    }
   },
   "outputs": [
    {
     "data": {
      "text/plain": [
       "<matplotlib.axes._subplots.AxesSubplot at 0x7f6744fc8d68>"
      ]
     },
     "execution_count": 53,
     "metadata": {},
     "output_type": "execute_result"
    },
    {
     "data": {
      "image/png": "[encoded data removed]",
      "text/plain": [
       "<Figure size 1080x720 with 2 Axes>"
      ]
     },
     "metadata": {
      "needs_background": "light"
     },
     "output_type": "display_data"
    }
   ],
   "source": [
    "plt.rcParams['figure.figsize'] = (15,10)\n",
    "sns.heatmap(data[feat_importances.nlargest(25).index].corr())"
   ]
  },
  {
   "cell_type": "code",
   "execution_count": 54,
   "metadata": {
    "execution": {
     "iopub.execute_input": "2021-07-14T04:32:52.406296Z",
     "iopub.status.busy": "2021-07-14T04:32:52.405783Z",
     "iopub.status.idle": "2021-07-14T04:32:52.411494Z",
     "shell.execute_reply": "2021-07-14T04:32:52.410223Z",
     "shell.execute_reply.started": "2021-07-14T04:32:52.406082Z"
    }
   },
   "outputs": [],
   "source": [
    "#data[feat_importances.nlargest(25).index].corr()"
   ]
  },
  {
   "cell_type": "code",
   "execution_count": 55,
   "metadata": {
    "execution": {
     "iopub.execute_input": "2021-07-14T04:32:52.413956Z",
     "iopub.status.busy": "2021-07-14T04:32:52.413441Z",
     "iopub.status.idle": "2021-07-14T04:32:52.421716Z",
     "shell.execute_reply": "2021-07-14T04:32:52.420536Z",
     "shell.execute_reply.started": "2021-07-14T04:32:52.413747Z"
    }
   },
   "outputs": [],
   "source": [
    "#feat_importances.nlargest(45)\n",
    "#feat_importances.nlargest(15).index"
   ]
  },
  {
   "cell_type": "markdown",
   "metadata": {},
   "source": [
    "# Submission\n",
    "Если все устраевает - готовим Submission на кагл"
   ]
  },
  {
   "cell_type": "code",
   "execution_count": 56,
   "metadata": {
    "execution": {
     "iopub.execute_input": "2021-07-14T04:32:52.424202Z",
     "iopub.status.busy": "2021-07-14T04:32:52.423786Z",
     "iopub.status.idle": "2021-07-14T04:32:52.456887Z",
     "shell.execute_reply": "2021-07-14T04:32:52.456050Z",
     "shell.execute_reply.started": "2021-07-14T04:32:52.424057Z"
    }
   },
   "outputs": [
    {
     "data": {
      "text/html": [
       "<div>\n",
       "<style scoped>\n",
       "    .dataframe tbody tr th:only-of-type {\n",
       "        vertical-align: middle;\n",
       "    }\n",
       "\n",
       "    .dataframe tbody tr th {\n",
       "        vertical-align: top;\n",
       "    }\n",
       "\n",
       "    .dataframe thead th {\n",
       "        text-align: right;\n",
       "    }\n",
       "</style>\n",
       "<table border=\"1\" class=\"dataframe\">\n",
       "  <thead>\n",
       "    <tr style=\"text-align: right;\">\n",
       "      <th></th>\n",
       "      <th>Price_Range</th>\n",
       "      <th>Number_of_Reviews</th>\n",
       "      <th>Rating</th>\n",
       "      <th>City_population</th>\n",
       "      <th>Restaurant_Chain</th>\n",
       "      <th>Price_Range_nan</th>\n",
       "      <th>Number_of_Reviews_nan</th>\n",
       "      <th>Reviews_per_population</th>\n",
       "      <th>Rank_Norm_minmax</th>\n",
       "      <th>Rank_per_population</th>\n",
       "      <th>...</th>\n",
       "      <th>City_Munich</th>\n",
       "      <th>City_Oporto</th>\n",
       "      <th>City_Oslo</th>\n",
       "      <th>City_Paris</th>\n",
       "      <th>City_Prague</th>\n",
       "      <th>City_Rome</th>\n",
       "      <th>City_Stockholm</th>\n",
       "      <th>City_Vienna</th>\n",
       "      <th>City_Warsaw</th>\n",
       "      <th>City_Zurich</th>\n",
       "    </tr>\n",
       "  </thead>\n",
       "  <tbody>\n",
       "    <tr>\n",
       "      <th>2776</th>\n",
       "      <td>2.0</td>\n",
       "      <td>20.0</td>\n",
       "      <td>0.0</td>\n",
       "      <td>1352</td>\n",
       "      <td>1</td>\n",
       "      <td>1</td>\n",
       "      <td>0</td>\n",
       "      <td>0.014793</td>\n",
       "      <td>0.520720</td>\n",
       "      <td>2.417160</td>\n",
       "      <td>...</td>\n",
       "      <td>0</td>\n",
       "      <td>0</td>\n",
       "      <td>0</td>\n",
       "      <td>0</td>\n",
       "      <td>0</td>\n",
       "      <td>0</td>\n",
       "      <td>0</td>\n",
       "      <td>0</td>\n",
       "      <td>0</td>\n",
       "      <td>0</td>\n",
       "    </tr>\n",
       "    <tr>\n",
       "      <th>4360</th>\n",
       "      <td>2.0</td>\n",
       "      <td>114.0</td>\n",
       "      <td>0.0</td>\n",
       "      <td>2873</td>\n",
       "      <td>1</td>\n",
       "      <td>0</td>\n",
       "      <td>0</td>\n",
       "      <td>0.039680</td>\n",
       "      <td>0.282832</td>\n",
       "      <td>0.585799</td>\n",
       "      <td>...</td>\n",
       "      <td>0</td>\n",
       "      <td>0</td>\n",
       "      <td>0</td>\n",
       "      <td>0</td>\n",
       "      <td>0</td>\n",
       "      <td>1</td>\n",
       "      <td>0</td>\n",
       "      <td>0</td>\n",
       "      <td>0</td>\n",
       "      <td>0</td>\n",
       "    </tr>\n",
       "    <tr>\n",
       "      <th>8477</th>\n",
       "      <td>2.0</td>\n",
       "      <td>95.0</td>\n",
       "      <td>0.0</td>\n",
       "      <td>3645</td>\n",
       "      <td>0</td>\n",
       "      <td>0</td>\n",
       "      <td>0</td>\n",
       "      <td>0.026063</td>\n",
       "      <td>0.905024</td>\n",
       "      <td>1.582167</td>\n",
       "      <td>...</td>\n",
       "      <td>0</td>\n",
       "      <td>0</td>\n",
       "      <td>0</td>\n",
       "      <td>0</td>\n",
       "      <td>0</td>\n",
       "      <td>0</td>\n",
       "      <td>0</td>\n",
       "      <td>0</td>\n",
       "      <td>0</td>\n",
       "      <td>0</td>\n",
       "    </tr>\n",
       "    <tr>\n",
       "      <th>263</th>\n",
       "      <td>2.0</td>\n",
       "      <td>75.0</td>\n",
       "      <td>0.0</td>\n",
       "      <td>642</td>\n",
       "      <td>1</td>\n",
       "      <td>0</td>\n",
       "      <td>0</td>\n",
       "      <td>0.116822</td>\n",
       "      <td>0.054529</td>\n",
       "      <td>0.102804</td>\n",
       "      <td>...</td>\n",
       "      <td>0</td>\n",
       "      <td>0</td>\n",
       "      <td>0</td>\n",
       "      <td>0</td>\n",
       "      <td>0</td>\n",
       "      <td>0</td>\n",
       "      <td>0</td>\n",
       "      <td>0</td>\n",
       "      <td>0</td>\n",
       "      <td>0</td>\n",
       "    </tr>\n",
       "    <tr>\n",
       "      <th>4039</th>\n",
       "      <td>2.0</td>\n",
       "      <td>2.0</td>\n",
       "      <td>0.0</td>\n",
       "      <td>122</td>\n",
       "      <td>1</td>\n",
       "      <td>1</td>\n",
       "      <td>0</td>\n",
       "      <td>0.016393</td>\n",
       "      <td>0.651050</td>\n",
       "      <td>3.319672</td>\n",
       "      <td>...</td>\n",
       "      <td>0</td>\n",
       "      <td>0</td>\n",
       "      <td>0</td>\n",
       "      <td>0</td>\n",
       "      <td>0</td>\n",
       "      <td>0</td>\n",
       "      <td>0</td>\n",
       "      <td>0</td>\n",
       "      <td>0</td>\n",
       "      <td>0</td>\n",
       "    </tr>\n",
       "    <tr>\n",
       "      <th>1945</th>\n",
       "      <td>2.0</td>\n",
       "      <td>105.0</td>\n",
       "      <td>0.0</td>\n",
       "      <td>2873</td>\n",
       "      <td>1</td>\n",
       "      <td>0</td>\n",
       "      <td>0</td>\n",
       "      <td>0.036547</td>\n",
       "      <td>0.503615</td>\n",
       "      <td>1.042812</td>\n",
       "      <td>...</td>\n",
       "      <td>0</td>\n",
       "      <td>0</td>\n",
       "      <td>0</td>\n",
       "      <td>0</td>\n",
       "      <td>0</td>\n",
       "      <td>1</td>\n",
       "      <td>0</td>\n",
       "      <td>0</td>\n",
       "      <td>0</td>\n",
       "      <td>0</td>\n",
       "    </tr>\n",
       "    <tr>\n",
       "      <th>2802</th>\n",
       "      <td>2.0</td>\n",
       "      <td>26.0</td>\n",
       "      <td>0.0</td>\n",
       "      <td>1031</td>\n",
       "      <td>1</td>\n",
       "      <td>0</td>\n",
       "      <td>0</td>\n",
       "      <td>0.025218</td>\n",
       "      <td>0.510298</td>\n",
       "      <td>1.611057</td>\n",
       "      <td>...</td>\n",
       "      <td>0</td>\n",
       "      <td>0</td>\n",
       "      <td>0</td>\n",
       "      <td>0</td>\n",
       "      <td>0</td>\n",
       "      <td>0</td>\n",
       "      <td>0</td>\n",
       "      <td>0</td>\n",
       "      <td>0</td>\n",
       "      <td>0</td>\n",
       "    </tr>\n",
       "    <tr>\n",
       "      <th>6286</th>\n",
       "      <td>2.0</td>\n",
       "      <td>187.0</td>\n",
       "      <td>0.0</td>\n",
       "      <td>10979</td>\n",
       "      <td>1</td>\n",
       "      <td>0</td>\n",
       "      <td>0</td>\n",
       "      <td>0.017033</td>\n",
       "      <td>0.392143</td>\n",
       "      <td>0.587394</td>\n",
       "      <td>...</td>\n",
       "      <td>0</td>\n",
       "      <td>0</td>\n",
       "      <td>0</td>\n",
       "      <td>0</td>\n",
       "      <td>0</td>\n",
       "      <td>0</td>\n",
       "      <td>0</td>\n",
       "      <td>0</td>\n",
       "      <td>0</td>\n",
       "      <td>0</td>\n",
       "    </tr>\n",
       "    <tr>\n",
       "      <th>2840</th>\n",
       "      <td>2.0</td>\n",
       "      <td>22.0</td>\n",
       "      <td>0.0</td>\n",
       "      <td>3645</td>\n",
       "      <td>1</td>\n",
       "      <td>1</td>\n",
       "      <td>0</td>\n",
       "      <td>0.006036</td>\n",
       "      <td>0.918838</td>\n",
       "      <td>1.606310</td>\n",
       "      <td>...</td>\n",
       "      <td>0</td>\n",
       "      <td>0</td>\n",
       "      <td>0</td>\n",
       "      <td>0</td>\n",
       "      <td>0</td>\n",
       "      <td>0</td>\n",
       "      <td>0</td>\n",
       "      <td>0</td>\n",
       "      <td>0</td>\n",
       "      <td>0</td>\n",
       "    </tr>\n",
       "    <tr>\n",
       "      <th>135</th>\n",
       "      <td>2.0</td>\n",
       "      <td>19.0</td>\n",
       "      <td>0.0</td>\n",
       "      <td>1324</td>\n",
       "      <td>1</td>\n",
       "      <td>0</td>\n",
       "      <td>0</td>\n",
       "      <td>0.014350</td>\n",
       "      <td>0.686813</td>\n",
       "      <td>2.172961</td>\n",
       "      <td>...</td>\n",
       "      <td>0</td>\n",
       "      <td>0</td>\n",
       "      <td>0</td>\n",
       "      <td>0</td>\n",
       "      <td>1</td>\n",
       "      <td>0</td>\n",
       "      <td>0</td>\n",
       "      <td>0</td>\n",
       "      <td>0</td>\n",
       "      <td>0</td>\n",
       "    </tr>\n",
       "  </tbody>\n",
       "</table>\n",
       "<p>10 rows × 52 columns</p>\n",
       "</div>"
      ],
      "text/plain": [
       "      Price_Range  Number_of_Reviews  Rating  City_population  \\\n",
       "2776          2.0               20.0     0.0             1352   \n",
       "4360          2.0              114.0     0.0             2873   \n",
       "8477          2.0               95.0     0.0             3645   \n",
       "263           2.0               75.0     0.0              642   \n",
       "4039          2.0                2.0     0.0              122   \n",
       "1945          2.0              105.0     0.0             2873   \n",
       "2802          2.0               26.0     0.0             1031   \n",
       "6286          2.0              187.0     0.0            10979   \n",
       "2840          2.0               22.0     0.0             3645   \n",
       "135           2.0               19.0     0.0             1324   \n",
       "\n",
       "      Restaurant_Chain  Price_Range_nan  Number_of_Reviews_nan  \\\n",
       "2776                 1                1                      0   \n",
       "4360                 1                0                      0   \n",
       "8477                 0                0                      0   \n",
       "263                  1                0                      0   \n",
       "4039                 1                1                      0   \n",
       "1945                 1                0                      0   \n",
       "2802                 1                0                      0   \n",
       "6286                 1                0                      0   \n",
       "2840                 1                1                      0   \n",
       "135                  1                0                      0   \n",
       "\n",
       "      Reviews_per_population  Rank_Norm_minmax  Rank_per_population  ...  \\\n",
       "2776                0.014793          0.520720             2.417160  ...   \n",
       "4360                0.039680          0.282832             0.585799  ...   \n",
       "8477                0.026063          0.905024             1.582167  ...   \n",
       "263                 0.116822          0.054529             0.102804  ...   \n",
       "4039                0.016393          0.651050             3.319672  ...   \n",
       "1945                0.036547          0.503615             1.042812  ...   \n",
       "2802                0.025218          0.510298             1.611057  ...   \n",
       "6286                0.017033          0.392143             0.587394  ...   \n",
       "2840                0.006036          0.918838             1.606310  ...   \n",
       "135                 0.014350          0.686813             2.172961  ...   \n",
       "\n",
       "      City_Munich  City_Oporto  City_Oslo  City_Paris  City_Prague  City_Rome  \\\n",
       "2776            0            0          0           0            0          0   \n",
       "4360            0            0          0           0            0          1   \n",
       "8477            0            0          0           0            0          0   \n",
       "263             0            0          0           0            0          0   \n",
       "4039            0            0          0           0            0          0   \n",
       "1945            0            0          0           0            0          1   \n",
       "2802            0            0          0           0            0          0   \n",
       "6286            0            0          0           0            0          0   \n",
       "2840            0            0          0           0            0          0   \n",
       "135             0            0          0           0            1          0   \n",
       "\n",
       "      City_Stockholm  City_Vienna  City_Warsaw  City_Zurich  \n",
       "2776               0            0            0            0  \n",
       "4360               0            0            0            0  \n",
       "8477               0            0            0            0  \n",
       "263                0            0            0            0  \n",
       "4039               0            0            0            0  \n",
       "1945               0            0            0            0  \n",
       "2802               0            0            0            0  \n",
       "6286               0            0            0            0  \n",
       "2840               0            0            0            0  \n",
       "135                0            0            0            0  \n",
       "\n",
       "[10 rows x 52 columns]"
      ]
     },
     "execution_count": 56,
     "metadata": {},
     "output_type": "execute_result"
    }
   ],
   "source": [
    "test_data.sample(10)"
   ]
  },
  {
   "cell_type": "code",
   "execution_count": 57,
   "metadata": {
    "execution": {
     "iopub.execute_input": "2021-07-14T04:32:52.458159Z",
     "iopub.status.busy": "2021-07-14T04:32:52.457939Z",
     "iopub.status.idle": "2021-07-14T04:32:52.463740Z",
     "shell.execute_reply": "2021-07-14T04:32:52.462813Z",
     "shell.execute_reply.started": "2021-07-14T04:32:52.458120Z"
    }
   },
   "outputs": [],
   "source": [
    "test_data = test_data.drop(['Rating'], axis=1)"
   ]
  },
  {
   "cell_type": "code",
   "execution_count": 58,
   "metadata": {
    "execution": {
     "iopub.execute_input": "2021-07-14T04:32:52.464962Z",
     "iopub.status.busy": "2021-07-14T04:32:52.464597Z",
     "iopub.status.idle": "2021-07-14T04:32:52.482592Z",
     "shell.execute_reply": "2021-07-14T04:32:52.481662Z",
     "shell.execute_reply.started": "2021-07-14T04:32:52.464925Z"
    }
   },
   "outputs": [
    {
     "data": {
      "text/html": [
       "<div>\n",
       "<style scoped>\n",
       "    .dataframe tbody tr th:only-of-type {\n",
       "        vertical-align: middle;\n",
       "    }\n",
       "\n",
       "    .dataframe tbody tr th {\n",
       "        vertical-align: top;\n",
       "    }\n",
       "\n",
       "    .dataframe thead th {\n",
       "        text-align: right;\n",
       "    }\n",
       "</style>\n",
       "<table border=\"1\" class=\"dataframe\">\n",
       "  <thead>\n",
       "    <tr style=\"text-align: right;\">\n",
       "      <th></th>\n",
       "      <th>Restaurant_id</th>\n",
       "      <th>Rating</th>\n",
       "    </tr>\n",
       "  </thead>\n",
       "  <tbody>\n",
       "    <tr>\n",
       "      <th>0</th>\n",
       "      <td>id_0</td>\n",
       "      <td>2.0</td>\n",
       "    </tr>\n",
       "    <tr>\n",
       "      <th>1</th>\n",
       "      <td>id_1</td>\n",
       "      <td>2.5</td>\n",
       "    </tr>\n",
       "    <tr>\n",
       "      <th>2</th>\n",
       "      <td>id_2</td>\n",
       "      <td>4.0</td>\n",
       "    </tr>\n",
       "    <tr>\n",
       "      <th>3</th>\n",
       "      <td>id_3</td>\n",
       "      <td>1.0</td>\n",
       "    </tr>\n",
       "    <tr>\n",
       "      <th>4</th>\n",
       "      <td>id_4</td>\n",
       "      <td>4.0</td>\n",
       "    </tr>\n",
       "    <tr>\n",
       "      <th>...</th>\n",
       "      <td>...</td>\n",
       "      <td>...</td>\n",
       "    </tr>\n",
       "    <tr>\n",
       "      <th>9995</th>\n",
       "      <td>id_9995</td>\n",
       "      <td>3.0</td>\n",
       "    </tr>\n",
       "    <tr>\n",
       "      <th>9996</th>\n",
       "      <td>id_9996</td>\n",
       "      <td>1.5</td>\n",
       "    </tr>\n",
       "    <tr>\n",
       "      <th>9997</th>\n",
       "      <td>id_9997</td>\n",
       "      <td>4.5</td>\n",
       "    </tr>\n",
       "    <tr>\n",
       "      <th>9998</th>\n",
       "      <td>id_9998</td>\n",
       "      <td>1.0</td>\n",
       "    </tr>\n",
       "    <tr>\n",
       "      <th>9999</th>\n",
       "      <td>id_9999</td>\n",
       "      <td>2.5</td>\n",
       "    </tr>\n",
       "  </tbody>\n",
       "</table>\n",
       "<p>10000 rows × 2 columns</p>\n",
       "</div>"
      ],
      "text/plain": [
       "     Restaurant_id  Rating\n",
       "0             id_0     2.0\n",
       "1             id_1     2.5\n",
       "2             id_2     4.0\n",
       "3             id_3     1.0\n",
       "4             id_4     4.0\n",
       "...            ...     ...\n",
       "9995       id_9995     3.0\n",
       "9996       id_9996     1.5\n",
       "9997       id_9997     4.5\n",
       "9998       id_9998     1.0\n",
       "9999       id_9999     2.5\n",
       "\n",
       "[10000 rows x 2 columns]"
      ]
     },
     "execution_count": 58,
     "metadata": {},
     "output_type": "execute_result"
    }
   ],
   "source": [
    "sample_submission"
   ]
  },
  {
   "cell_type": "code",
   "execution_count": 59,
   "metadata": {
    "execution": {
     "iopub.execute_input": "2021-07-14T04:32:52.483948Z",
     "iopub.status.busy": "2021-07-14T04:32:52.483704Z",
     "iopub.status.idle": "2021-07-14T04:32:52.597376Z",
     "shell.execute_reply": "2021-07-14T04:32:52.596621Z",
     "shell.execute_reply.started": "2021-07-14T04:32:52.483911Z"
    }
   },
   "outputs": [
    {
     "name": "stderr",
     "output_type": "stream",
     "text": [
      "[Parallel(n_jobs=4)]: Using backend ThreadingBackend with 4 concurrent workers.\n",
      "[Parallel(n_jobs=4)]: Done  42 tasks      | elapsed:    0.1s\n",
      "[Parallel(n_jobs=4)]: Done 100 out of 100 | elapsed:    0.1s finished\n"
     ]
    }
   ],
   "source": [
    "predict_submission = model.predict(test_data)"
   ]
  },
  {
   "cell_type": "code",
   "execution_count": 60,
   "metadata": {
    "execution": {
     "iopub.execute_input": "2021-07-14T04:32:52.598496Z",
     "iopub.status.busy": "2021-07-14T04:32:52.598291Z",
     "iopub.status.idle": "2021-07-14T04:32:52.716044Z",
     "shell.execute_reply": "2021-07-14T04:32:52.715230Z",
     "shell.execute_reply.started": "2021-07-14T04:32:52.598463Z"
    }
   },
   "outputs": [
    {
     "data": {
      "text/plain": [
       "array([3. , 4. , 4.5, ..., 3. , 4.5, 4.5])"
      ]
     },
     "execution_count": 60,
     "metadata": {},
     "output_type": "execute_result"
    }
   ],
   "source": [
    "predict_submission=vector_round(predict_submission)\n",
    "predict_submission"
   ]
  },
  {
   "cell_type": "code",
   "execution_count": 61,
   "metadata": {
    "execution": {
     "iopub.execute_input": "2021-07-14T04:32:52.717847Z",
     "iopub.status.busy": "2021-07-14T04:32:52.717537Z",
     "iopub.status.idle": "2021-07-14T04:32:53.141016Z",
     "shell.execute_reply": "2021-07-14T04:32:53.140136Z",
     "shell.execute_reply.started": "2021-07-14T04:32:52.717797Z"
    }
   },
   "outputs": [
    {
     "data": {
      "text/html": [
       "<div>\n",
       "<style scoped>\n",
       "    .dataframe tbody tr th:only-of-type {\n",
       "        vertical-align: middle;\n",
       "    }\n",
       "\n",
       "    .dataframe tbody tr th {\n",
       "        vertical-align: top;\n",
       "    }\n",
       "\n",
       "    .dataframe thead th {\n",
       "        text-align: right;\n",
       "    }\n",
       "</style>\n",
       "<table border=\"1\" class=\"dataframe\">\n",
       "  <thead>\n",
       "    <tr style=\"text-align: right;\">\n",
       "      <th></th>\n",
       "      <th>Restaurant_id</th>\n",
       "      <th>Rating</th>\n",
       "    </tr>\n",
       "  </thead>\n",
       "  <tbody>\n",
       "    <tr>\n",
       "      <th>0</th>\n",
       "      <td>id_0</td>\n",
       "      <td>3.0</td>\n",
       "    </tr>\n",
       "    <tr>\n",
       "      <th>1</th>\n",
       "      <td>id_1</td>\n",
       "      <td>4.0</td>\n",
       "    </tr>\n",
       "    <tr>\n",
       "      <th>2</th>\n",
       "      <td>id_2</td>\n",
       "      <td>4.5</td>\n",
       "    </tr>\n",
       "    <tr>\n",
       "      <th>3</th>\n",
       "      <td>id_3</td>\n",
       "      <td>4.5</td>\n",
       "    </tr>\n",
       "    <tr>\n",
       "      <th>4</th>\n",
       "      <td>id_4</td>\n",
       "      <td>4.5</td>\n",
       "    </tr>\n",
       "    <tr>\n",
       "      <th>5</th>\n",
       "      <td>id_5</td>\n",
       "      <td>4.5</td>\n",
       "    </tr>\n",
       "    <tr>\n",
       "      <th>6</th>\n",
       "      <td>id_6</td>\n",
       "      <td>2.5</td>\n",
       "    </tr>\n",
       "    <tr>\n",
       "      <th>7</th>\n",
       "      <td>id_7</td>\n",
       "      <td>3.5</td>\n",
       "    </tr>\n",
       "    <tr>\n",
       "      <th>8</th>\n",
       "      <td>id_8</td>\n",
       "      <td>4.0</td>\n",
       "    </tr>\n",
       "    <tr>\n",
       "      <th>9</th>\n",
       "      <td>id_9</td>\n",
       "      <td>4.5</td>\n",
       "    </tr>\n",
       "  </tbody>\n",
       "</table>\n",
       "</div>"
      ],
      "text/plain": [
       "  Restaurant_id  Rating\n",
       "0          id_0     3.0\n",
       "1          id_1     4.0\n",
       "2          id_2     4.5\n",
       "3          id_3     4.5\n",
       "4          id_4     4.5\n",
       "5          id_5     4.5\n",
       "6          id_6     2.5\n",
       "7          id_7     3.5\n",
       "8          id_8     4.0\n",
       "9          id_9     4.5"
      ]
     },
     "execution_count": 61,
     "metadata": {},
     "output_type": "execute_result"
    }
   ],
   "source": [
    "sample_submission['Rating'] = predict_submission\n",
    "sample_submission.to_csv('submission.csv', index=False)\n",
    "sample_submission.head(10)"
   ]
  },
  {
   "cell_type": "markdown",
   "metadata": {},
   "source": [
    "# What's next?\n",
    "Или что делать, чтоб улучшить результат:\n",
    "* Обработать оставшиеся признаки в понятный для машины формат\n",
    "* Посмотреть, что еще можно извлечь из признаков\n",
    "* Сгенерировать новые признаки\n",
    "* Подгрузить дополнительные данные, например: по населению или благосостоянию городов\n",
    "* Подобрать состав признаков\n",
    "\n",
    "В общем, процесс творческий и весьма увлекательный! Удачи в соревновании!\n"
   ]
  },
  {
   "cell_type": "code",
   "execution_count": null,
   "metadata": {},
   "outputs": [],
   "source": []
  }
 ],
 "metadata": {
  "kernelspec": {
   "display_name": "Python 3",
   "language": "python",
   "name": "python3"
  },
  "language_info": {
   "codemirror_mode": {
    "name": "ipython",
    "version": 3
   },
   "file_extension": ".py",
   "mimetype": "text/x-python",
   "name": "python",
   "nbconvert_exporter": "python",
   "pygments_lexer": "ipython3",
   "version": "3.6.6"
  }
 },
 "nbformat": 4,
 "nbformat_minor": 4
}
