{
 "cells": [
  {
   "cell_type": "code",
   "execution_count": 66,
   "metadata": {},
   "outputs": [
    {
     "name": "stdout",
     "output_type": "stream",
     "text": [
      "We'll guess numbers in the range from 1 to 100.\n",
      "Let's repeat it 1000 times.\n",
      "\n",
      "The algorithm guesses the number in 5 tries on average.\n",
      "The minimum number of attempts: 1.\n",
      "The maximum number of attempts: 7.\n"
     ]
    }
   ],
   "source": [
    "import numpy as np\n",
    "\n",
    "\n",
    "def game_core_v3(number):\n",
    "    '''Guess the hidden number and return the number of attempts.'''\n",
    "    start = min_number\n",
    "    end = max_number\n",
    "    count = 0\n",
    "    while True:\n",
    "        count += 1\n",
    "        predict = int((start+end) / 2)  # middle of range\n",
    "        if number == predict:\n",
    "            break\n",
    "        elif number > predict: \n",
    "            start = predict + 1\n",
    "        else:\n",
    "            end = predict - 1\n",
    "\n",
    "    return count\n",
    "\n",
    "\n",
    "def score_game(game_core):\n",
    "    '''Run the game 1000 times to find out how quickly it guesses \n",
    "    the number.\n",
    "    '''\n",
    "    count_ls = []\n",
    "    np.random.seed(1)  # to be sure the experiment is reproducible    \n",
    "    random_array = np.random.randint(min_number, max_number+1, size=(1000))\n",
    "    \n",
    "    print(\"Let's repeat it 1000 times.\\n\")    \n",
    "    for number in random_array:\n",
    "        count_ls.append(game_core(number))\n",
    "        \n",
    "    score = int(np.mean(count_ls))\n",
    "    print(f\"The algorithm guesses the number in {score} tries on average.\")\n",
    "    print(f\"The minimum number of attempts: {np.min(count_ls)}.\")\n",
    "    print(f\"The maximum number of attempts: {np.max(count_ls)}.\")\n",
    "    \n",
    "    return None\n",
    "\n",
    "\n",
    "# We will guess a number in the following range:\n",
    "min_number = 1\n",
    "max_number = 100\n",
    "print(f\"We'll guess numbers in the range from {min_number} to {max_number}.\") \n",
    "\n",
    "score_game(game_core_v3)"
   ]
  },
  {
   "cell_type": "code",
   "execution_count": null,
   "metadata": {},
   "outputs": [],
   "source": []
  }
 ],
 "metadata": {
  "kernelspec": {
   "display_name": "Python 3",
   "language": "python",
   "name": "python3"
  },
  "language_info": {
   "codemirror_mode": {
    "name": "ipython",
    "version": 3
   },
   "file_extension": ".py",
   "mimetype": "text/x-python",
   "name": "python",
   "nbconvert_exporter": "python",
   "pygments_lexer": "ipython3",
   "version": "3.8.3"
  }
 },
 "nbformat": 4,
 "nbformat_minor": 4
}
